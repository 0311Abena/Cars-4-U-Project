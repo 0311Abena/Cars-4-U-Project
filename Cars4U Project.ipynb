{
 "cells": [
  {
   "cell_type": "markdown",
   "id": "352e2273",
   "metadata": {},
   "source": [
    "### Problem Statement:\n",
    "\n",
    "The pre-owned car market in India has witnessed significant growth, surpassing new car sales in recent years. Cars4U, a tech start-up, aims to capitalize on this trend. However, the pricing of used cars poses a challenge due to the inherent uncertainty in both pricing and supply. To succeed in the market, Cars4U requires a robust pricing model that accurately predicts the prices of used cars. This model will enable the business to devise profitable strategies through differential pricing. The aim is to determine the market price and avoid selling cars below it, ensuring sustainable growth for the company."
   ]
  },
  {
   "cell_type": "markdown",
   "id": "2d4a5ef2",
   "metadata": {},
   "source": [
    "### Objective:\n",
    "\n",
    "To explore and visualize the dataset, build a linear regression model to predict the prices of used cars, and generate a set of insights and recommendations that will help the business"
   ]
  },
  {
   "cell_type": "markdown",
   "id": "2e4fddd4",
   "metadata": {},
   "source": [
    "### Data Dictionary\n",
    "\n",
    "- S.No.: Serial number\n",
    "- Name: Name of the car which includes brand name and model name\n",
    "- Location: Location in which the car is being sold or is available for purchase\n",
    "- Year: Manufacturing year of the car\n",
    "- Kilometers_driven: The total kilometers (a unit used to measure length or distance) driven in the car by the previous owner(s)\n",
    "- Fuel_Type: The type of fuel used by the car (Petrol, Diesel, Electric, CNG, LPG)\n",
    "- Transmission: The type of transmission used by the car (Automatic/Manual)\n",
    "- Owner: Type of ownership\n",
    "- Mileage: The standard mileage offered by the car company in kmpl or km/kg\n",
    "- Engine: The displacement volume of the engine in CC\n",
    "- Power: The maximum power of the engine in bhp\n",
    "- Seats: The number of seats in the car\n",
    "- New_Price: The price of a new car of the same model in dollars\n",
    "- Price: The price of the used car in dollars"
   ]
  },
  {
   "cell_type": "code",
   "execution_count": 1,
   "id": "7a8c2ccf",
   "metadata": {},
   "outputs": [],
   "source": [
    "#Importing the libraries for data manipulation and visualisation\n",
    "import pandas as pd\n",
    "import numpy as np\n",
    "import matplotlib.pyplot as plt\n",
    "import seaborn as sns"
   ]
  },
  {
   "cell_type": "code",
   "execution_count": 2,
   "id": "003a9afd",
   "metadata": {},
   "outputs": [],
   "source": [
    "from sklearn.model_selection import train_test_split\n",
    "from sklearn.preprocessing import StandardScaler, MinMaxScaler\n",
    "from sklearn.model_selection import cross_val_score, KFold, StratifiedKFold\n",
    "\n",
    "\n",
    "from sklearn. linear_model import LinearRegression\n",
    "from sklearn.metrics import r2_score, mean_squared_error, mean_absolute_error\n",
    "from sklearn.linear_model import Ridge\n",
    "from sklearn.linear_model import Lasso\n",
    "from mlxtend.feature_selection import SequentialFeatureSelector as SFS\n",
    "from mlxtend.plotting import plot_sequential_feature_selection as plot_sfs"
   ]
  },
  {
   "cell_type": "code",
   "execution_count": 3,
   "id": "34101a62",
   "metadata": {},
   "outputs": [
    {
     "name": "stdout",
     "output_type": "stream",
     "text": [
      " Volume in drive C is Local Disk\n",
      " Volume Serial Number is D4F8-5A68\n",
      "\n",
      " Directory of C:\\Users\\SERWAH\\Desktop\\Ailead\\Machine Learning\\Assignment\n",
      "\n",
      "05/08/2023  10:30 PM    <DIR>          .\n",
      "05/08/2023  02:25 PM    <DIR>          ..\n",
      "05/08/2023  01:40 PM    <DIR>          .ipynb_checkpoints\n",
      "05/08/2023  11:05 AM    <DIR>          __pycache__\n",
      "05/08/2023  01:39 PM           343,057 BACK PAIN- LOGISTIC REGRESSION.ipynb\n",
      "10/21/2022  10:25 PM            41,844 backpain.csv\n",
      "05/08/2023  10:14 PM           196,794 boxplots.png\n",
      "05/08/2023  10:30 PM           869,953 Cars4U Project.ipynb\n",
      "05/08/2023  02:00 PM             6,919 Cars4U_Project.ipynb\n",
      "05/08/2023  10:14 PM            56,548 Heatmap showing correlation of features with target.png\n",
      "09/27/2018  03:35 AM            55,628 insurance.csv\n",
      "05/08/2023  01:40 PM           130,031 Machine learning canvas assignments.ipynb\n",
      "05/08/2023  10:14 PM            50,285 outlier_plots.png\n",
      "05/08/2023  10:14 PM            71,380 scatter_plots_features_vs_target.png\n",
      "04/22/2023  01:20 AM            11,192 test.csv\n",
      "04/22/2023  01:20 AM            44,542 train.csv\n",
      "10/16/2022  12:13 AM           808,887 used_cars_data-1.csv\n",
      "01/30/2023  10:29 PM             2,823 utils.py\n",
      "              14 File(s)      2,689,883 bytes\n",
      "               4 Dir(s)  89,022,087,168 bytes free\n"
     ]
    }
   ],
   "source": [
    "ls"
   ]
  },
  {
   "cell_type": "code",
   "execution_count": 4,
   "id": "f3cc7035",
   "metadata": {
    "scrolled": true
   },
   "outputs": [
    {
     "data": {
      "text/html": [
       "<div>\n",
       "<style scoped>\n",
       "    .dataframe tbody tr th:only-of-type {\n",
       "        vertical-align: middle;\n",
       "    }\n",
       "\n",
       "    .dataframe tbody tr th {\n",
       "        vertical-align: top;\n",
       "    }\n",
       "\n",
       "    .dataframe thead th {\n",
       "        text-align: right;\n",
       "    }\n",
       "</style>\n",
       "<table border=\"1\" class=\"dataframe\">\n",
       "  <thead>\n",
       "    <tr style=\"text-align: right;\">\n",
       "      <th></th>\n",
       "      <th>S.No.</th>\n",
       "      <th>Name</th>\n",
       "      <th>Location</th>\n",
       "      <th>Year</th>\n",
       "      <th>Kilometers_Driven</th>\n",
       "      <th>Fuel_Type</th>\n",
       "      <th>Transmission</th>\n",
       "      <th>Owner_Type</th>\n",
       "      <th>Mileage</th>\n",
       "      <th>Engine</th>\n",
       "      <th>Power</th>\n",
       "      <th>Seats</th>\n",
       "      <th>New_Price</th>\n",
       "      <th>Price</th>\n",
       "    </tr>\n",
       "  </thead>\n",
       "  <tbody>\n",
       "    <tr>\n",
       "      <th>0</th>\n",
       "      <td>0</td>\n",
       "      <td>Maruti Wagon R LXI CNG</td>\n",
       "      <td>Mumbai</td>\n",
       "      <td>2010</td>\n",
       "      <td>72000</td>\n",
       "      <td>CNG</td>\n",
       "      <td>Manual</td>\n",
       "      <td>First</td>\n",
       "      <td>26.6 km/kg</td>\n",
       "      <td>998 CC</td>\n",
       "      <td>58.16 bhp</td>\n",
       "      <td>5.0</td>\n",
       "      <td>5.51</td>\n",
       "      <td>1.75</td>\n",
       "    </tr>\n",
       "    <tr>\n",
       "      <th>1</th>\n",
       "      <td>1</td>\n",
       "      <td>Hyundai Creta 1.6 CRDi SX Option</td>\n",
       "      <td>Pune</td>\n",
       "      <td>2015</td>\n",
       "      <td>41000</td>\n",
       "      <td>Diesel</td>\n",
       "      <td>Manual</td>\n",
       "      <td>First</td>\n",
       "      <td>19.67 kmpl</td>\n",
       "      <td>1582 CC</td>\n",
       "      <td>126.2 bhp</td>\n",
       "      <td>5.0</td>\n",
       "      <td>16.06</td>\n",
       "      <td>12.50</td>\n",
       "    </tr>\n",
       "    <tr>\n",
       "      <th>2</th>\n",
       "      <td>2</td>\n",
       "      <td>Honda Jazz V</td>\n",
       "      <td>Chennai</td>\n",
       "      <td>2011</td>\n",
       "      <td>46000</td>\n",
       "      <td>Petrol</td>\n",
       "      <td>Manual</td>\n",
       "      <td>First</td>\n",
       "      <td>18.2 kmpl</td>\n",
       "      <td>1199 CC</td>\n",
       "      <td>88.7 bhp</td>\n",
       "      <td>5.0</td>\n",
       "      <td>8.61</td>\n",
       "      <td>4.50</td>\n",
       "    </tr>\n",
       "    <tr>\n",
       "      <th>3</th>\n",
       "      <td>3</td>\n",
       "      <td>Maruti Ertiga VDI</td>\n",
       "      <td>Chennai</td>\n",
       "      <td>2012</td>\n",
       "      <td>87000</td>\n",
       "      <td>Diesel</td>\n",
       "      <td>Manual</td>\n",
       "      <td>First</td>\n",
       "      <td>20.77 kmpl</td>\n",
       "      <td>1248 CC</td>\n",
       "      <td>88.76 bhp</td>\n",
       "      <td>7.0</td>\n",
       "      <td>11.27</td>\n",
       "      <td>6.00</td>\n",
       "    </tr>\n",
       "    <tr>\n",
       "      <th>4</th>\n",
       "      <td>4</td>\n",
       "      <td>Audi A4 New 2.0 TDI Multitronic</td>\n",
       "      <td>Coimbatore</td>\n",
       "      <td>2013</td>\n",
       "      <td>40670</td>\n",
       "      <td>Diesel</td>\n",
       "      <td>Automatic</td>\n",
       "      <td>Second</td>\n",
       "      <td>15.2 kmpl</td>\n",
       "      <td>1968 CC</td>\n",
       "      <td>140.8 bhp</td>\n",
       "      <td>5.0</td>\n",
       "      <td>53.14</td>\n",
       "      <td>17.74</td>\n",
       "    </tr>\n",
       "    <tr>\n",
       "      <th>...</th>\n",
       "      <td>...</td>\n",
       "      <td>...</td>\n",
       "      <td>...</td>\n",
       "      <td>...</td>\n",
       "      <td>...</td>\n",
       "      <td>...</td>\n",
       "      <td>...</td>\n",
       "      <td>...</td>\n",
       "      <td>...</td>\n",
       "      <td>...</td>\n",
       "      <td>...</td>\n",
       "      <td>...</td>\n",
       "      <td>...</td>\n",
       "      <td>...</td>\n",
       "    </tr>\n",
       "    <tr>\n",
       "      <th>7248</th>\n",
       "      <td>7248</td>\n",
       "      <td>Volkswagen Vento Diesel Trendline</td>\n",
       "      <td>Hyderabad</td>\n",
       "      <td>2011</td>\n",
       "      <td>89411</td>\n",
       "      <td>Diesel</td>\n",
       "      <td>Manual</td>\n",
       "      <td>First</td>\n",
       "      <td>20.54 kmpl</td>\n",
       "      <td>1598 CC</td>\n",
       "      <td>103.6 bhp</td>\n",
       "      <td>5.0</td>\n",
       "      <td>13.23</td>\n",
       "      <td>NaN</td>\n",
       "    </tr>\n",
       "    <tr>\n",
       "      <th>7249</th>\n",
       "      <td>7249</td>\n",
       "      <td>Volkswagen Polo GT TSI</td>\n",
       "      <td>Mumbai</td>\n",
       "      <td>2015</td>\n",
       "      <td>59000</td>\n",
       "      <td>Petrol</td>\n",
       "      <td>Automatic</td>\n",
       "      <td>First</td>\n",
       "      <td>17.21 kmpl</td>\n",
       "      <td>1197 CC</td>\n",
       "      <td>103.6 bhp</td>\n",
       "      <td>5.0</td>\n",
       "      <td>10.15</td>\n",
       "      <td>NaN</td>\n",
       "    </tr>\n",
       "    <tr>\n",
       "      <th>7250</th>\n",
       "      <td>7250</td>\n",
       "      <td>Nissan Micra Diesel XV</td>\n",
       "      <td>Kolkata</td>\n",
       "      <td>2012</td>\n",
       "      <td>28000</td>\n",
       "      <td>Diesel</td>\n",
       "      <td>Manual</td>\n",
       "      <td>First</td>\n",
       "      <td>23.08 kmpl</td>\n",
       "      <td>1461 CC</td>\n",
       "      <td>63.1 bhp</td>\n",
       "      <td>5.0</td>\n",
       "      <td>9.47</td>\n",
       "      <td>NaN</td>\n",
       "    </tr>\n",
       "    <tr>\n",
       "      <th>7251</th>\n",
       "      <td>7251</td>\n",
       "      <td>Volkswagen Polo GT TSI</td>\n",
       "      <td>Pune</td>\n",
       "      <td>2013</td>\n",
       "      <td>52262</td>\n",
       "      <td>Petrol</td>\n",
       "      <td>Automatic</td>\n",
       "      <td>Third</td>\n",
       "      <td>17.2 kmpl</td>\n",
       "      <td>1197 CC</td>\n",
       "      <td>103.6 bhp</td>\n",
       "      <td>5.0</td>\n",
       "      <td>10.15</td>\n",
       "      <td>NaN</td>\n",
       "    </tr>\n",
       "    <tr>\n",
       "      <th>7252</th>\n",
       "      <td>7252</td>\n",
       "      <td>Mercedes-Benz E-Class 2009-2013 E 220 CDI Avan...</td>\n",
       "      <td>Kochi</td>\n",
       "      <td>2014</td>\n",
       "      <td>72443</td>\n",
       "      <td>Diesel</td>\n",
       "      <td>Automatic</td>\n",
       "      <td>First</td>\n",
       "      <td>10.0 kmpl</td>\n",
       "      <td>2148 CC</td>\n",
       "      <td>170 bhp</td>\n",
       "      <td>5.0</td>\n",
       "      <td>86.97</td>\n",
       "      <td>NaN</td>\n",
       "    </tr>\n",
       "  </tbody>\n",
       "</table>\n",
       "<p>7253 rows × 14 columns</p>\n",
       "</div>"
      ],
      "text/plain": [
       "      S.No.                                               Name    Location  \\\n",
       "0         0                             Maruti Wagon R LXI CNG      Mumbai   \n",
       "1         1                   Hyundai Creta 1.6 CRDi SX Option        Pune   \n",
       "2         2                                       Honda Jazz V     Chennai   \n",
       "3         3                                  Maruti Ertiga VDI     Chennai   \n",
       "4         4                    Audi A4 New 2.0 TDI Multitronic  Coimbatore   \n",
       "...     ...                                                ...         ...   \n",
       "7248   7248                  Volkswagen Vento Diesel Trendline   Hyderabad   \n",
       "7249   7249                             Volkswagen Polo GT TSI      Mumbai   \n",
       "7250   7250                             Nissan Micra Diesel XV     Kolkata   \n",
       "7251   7251                             Volkswagen Polo GT TSI        Pune   \n",
       "7252   7252  Mercedes-Benz E-Class 2009-2013 E 220 CDI Avan...       Kochi   \n",
       "\n",
       "      Year  Kilometers_Driven Fuel_Type Transmission Owner_Type     Mileage  \\\n",
       "0     2010              72000       CNG       Manual      First  26.6 km/kg   \n",
       "1     2015              41000    Diesel       Manual      First  19.67 kmpl   \n",
       "2     2011              46000    Petrol       Manual      First   18.2 kmpl   \n",
       "3     2012              87000    Diesel       Manual      First  20.77 kmpl   \n",
       "4     2013              40670    Diesel    Automatic     Second   15.2 kmpl   \n",
       "...    ...                ...       ...          ...        ...         ...   \n",
       "7248  2011              89411    Diesel       Manual      First  20.54 kmpl   \n",
       "7249  2015              59000    Petrol    Automatic      First  17.21 kmpl   \n",
       "7250  2012              28000    Diesel       Manual      First  23.08 kmpl   \n",
       "7251  2013              52262    Petrol    Automatic      Third   17.2 kmpl   \n",
       "7252  2014              72443    Diesel    Automatic      First   10.0 kmpl   \n",
       "\n",
       "       Engine      Power  Seats  New_Price  Price  \n",
       "0      998 CC  58.16 bhp    5.0       5.51   1.75  \n",
       "1     1582 CC  126.2 bhp    5.0      16.06  12.50  \n",
       "2     1199 CC   88.7 bhp    5.0       8.61   4.50  \n",
       "3     1248 CC  88.76 bhp    7.0      11.27   6.00  \n",
       "4     1968 CC  140.8 bhp    5.0      53.14  17.74  \n",
       "...       ...        ...    ...        ...    ...  \n",
       "7248  1598 CC  103.6 bhp    5.0      13.23    NaN  \n",
       "7249  1197 CC  103.6 bhp    5.0      10.15    NaN  \n",
       "7250  1461 CC   63.1 bhp    5.0       9.47    NaN  \n",
       "7251  1197 CC  103.6 bhp    5.0      10.15    NaN  \n",
       "7252  2148 CC    170 bhp    5.0      86.97    NaN  \n",
       "\n",
       "[7253 rows x 14 columns]"
      ]
     },
     "execution_count": 4,
     "metadata": {},
     "output_type": "execute_result"
    }
   ],
   "source": [
    "# Read the dataset\n",
    "\n",
    "car_4_u= pd.read_csv(\"used_cars_data-1.csv\")\n",
    "car_4_u"
   ]
  },
  {
   "cell_type": "markdown",
   "id": "adb9108b",
   "metadata": {},
   "source": [
    "From reading the dataset we can see we have 7253 rows and 14 columns"
   ]
  },
  {
   "cell_type": "markdown",
   "id": "eed1b47b",
   "metadata": {},
   "source": [
    "### Explore the dataset"
   ]
  },
  {
   "cell_type": "code",
   "execution_count": 5,
   "id": "2a18dbb1",
   "metadata": {
    "scrolled": true
   },
   "outputs": [
    {
     "data": {
      "text/html": [
       "<div>\n",
       "<style scoped>\n",
       "    .dataframe tbody tr th:only-of-type {\n",
       "        vertical-align: middle;\n",
       "    }\n",
       "\n",
       "    .dataframe tbody tr th {\n",
       "        vertical-align: top;\n",
       "    }\n",
       "\n",
       "    .dataframe thead th {\n",
       "        text-align: right;\n",
       "    }\n",
       "</style>\n",
       "<table border=\"1\" class=\"dataframe\">\n",
       "  <thead>\n",
       "    <tr style=\"text-align: right;\">\n",
       "      <th></th>\n",
       "      <th>S.No.</th>\n",
       "      <th>Name</th>\n",
       "      <th>Location</th>\n",
       "      <th>Year</th>\n",
       "      <th>Kilometers_Driven</th>\n",
       "      <th>Fuel_Type</th>\n",
       "      <th>Transmission</th>\n",
       "      <th>Owner_Type</th>\n",
       "      <th>Mileage</th>\n",
       "      <th>Engine</th>\n",
       "      <th>Power</th>\n",
       "      <th>Seats</th>\n",
       "      <th>New_Price</th>\n",
       "      <th>Price</th>\n",
       "    </tr>\n",
       "  </thead>\n",
       "  <tbody>\n",
       "    <tr>\n",
       "      <th>0</th>\n",
       "      <td>0</td>\n",
       "      <td>Maruti Wagon R LXI CNG</td>\n",
       "      <td>Mumbai</td>\n",
       "      <td>2010</td>\n",
       "      <td>72000</td>\n",
       "      <td>CNG</td>\n",
       "      <td>Manual</td>\n",
       "      <td>First</td>\n",
       "      <td>26.6 km/kg</td>\n",
       "      <td>998 CC</td>\n",
       "      <td>58.16 bhp</td>\n",
       "      <td>5.0</td>\n",
       "      <td>5.51</td>\n",
       "      <td>1.75</td>\n",
       "    </tr>\n",
       "    <tr>\n",
       "      <th>1</th>\n",
       "      <td>1</td>\n",
       "      <td>Hyundai Creta 1.6 CRDi SX Option</td>\n",
       "      <td>Pune</td>\n",
       "      <td>2015</td>\n",
       "      <td>41000</td>\n",
       "      <td>Diesel</td>\n",
       "      <td>Manual</td>\n",
       "      <td>First</td>\n",
       "      <td>19.67 kmpl</td>\n",
       "      <td>1582 CC</td>\n",
       "      <td>126.2 bhp</td>\n",
       "      <td>5.0</td>\n",
       "      <td>16.06</td>\n",
       "      <td>12.50</td>\n",
       "    </tr>\n",
       "    <tr>\n",
       "      <th>2</th>\n",
       "      <td>2</td>\n",
       "      <td>Honda Jazz V</td>\n",
       "      <td>Chennai</td>\n",
       "      <td>2011</td>\n",
       "      <td>46000</td>\n",
       "      <td>Petrol</td>\n",
       "      <td>Manual</td>\n",
       "      <td>First</td>\n",
       "      <td>18.2 kmpl</td>\n",
       "      <td>1199 CC</td>\n",
       "      <td>88.7 bhp</td>\n",
       "      <td>5.0</td>\n",
       "      <td>8.61</td>\n",
       "      <td>4.50</td>\n",
       "    </tr>\n",
       "    <tr>\n",
       "      <th>3</th>\n",
       "      <td>3</td>\n",
       "      <td>Maruti Ertiga VDI</td>\n",
       "      <td>Chennai</td>\n",
       "      <td>2012</td>\n",
       "      <td>87000</td>\n",
       "      <td>Diesel</td>\n",
       "      <td>Manual</td>\n",
       "      <td>First</td>\n",
       "      <td>20.77 kmpl</td>\n",
       "      <td>1248 CC</td>\n",
       "      <td>88.76 bhp</td>\n",
       "      <td>7.0</td>\n",
       "      <td>11.27</td>\n",
       "      <td>6.00</td>\n",
       "    </tr>\n",
       "    <tr>\n",
       "      <th>4</th>\n",
       "      <td>4</td>\n",
       "      <td>Audi A4 New 2.0 TDI Multitronic</td>\n",
       "      <td>Coimbatore</td>\n",
       "      <td>2013</td>\n",
       "      <td>40670</td>\n",
       "      <td>Diesel</td>\n",
       "      <td>Automatic</td>\n",
       "      <td>Second</td>\n",
       "      <td>15.2 kmpl</td>\n",
       "      <td>1968 CC</td>\n",
       "      <td>140.8 bhp</td>\n",
       "      <td>5.0</td>\n",
       "      <td>53.14</td>\n",
       "      <td>17.74</td>\n",
       "    </tr>\n",
       "  </tbody>\n",
       "</table>\n",
       "</div>"
      ],
      "text/plain": [
       "   S.No.                              Name    Location  Year  \\\n",
       "0      0            Maruti Wagon R LXI CNG      Mumbai  2010   \n",
       "1      1  Hyundai Creta 1.6 CRDi SX Option        Pune  2015   \n",
       "2      2                      Honda Jazz V     Chennai  2011   \n",
       "3      3                 Maruti Ertiga VDI     Chennai  2012   \n",
       "4      4   Audi A4 New 2.0 TDI Multitronic  Coimbatore  2013   \n",
       "\n",
       "   Kilometers_Driven Fuel_Type Transmission Owner_Type     Mileage   Engine  \\\n",
       "0              72000       CNG       Manual      First  26.6 km/kg   998 CC   \n",
       "1              41000    Diesel       Manual      First  19.67 kmpl  1582 CC   \n",
       "2              46000    Petrol       Manual      First   18.2 kmpl  1199 CC   \n",
       "3              87000    Diesel       Manual      First  20.77 kmpl  1248 CC   \n",
       "4              40670    Diesel    Automatic     Second   15.2 kmpl  1968 CC   \n",
       "\n",
       "       Power  Seats  New_Price  Price  \n",
       "0  58.16 bhp    5.0       5.51   1.75  \n",
       "1  126.2 bhp    5.0      16.06  12.50  \n",
       "2   88.7 bhp    5.0       8.61   4.50  \n",
       "3  88.76 bhp    7.0      11.27   6.00  \n",
       "4  140.8 bhp    5.0      53.14  17.74  "
      ]
     },
     "execution_count": 5,
     "metadata": {},
     "output_type": "execute_result"
    }
   ],
   "source": [
    "# check the first 5 rows and the columns of the data\n",
    "car_4_u.head()"
   ]
  },
  {
   "cell_type": "code",
   "execution_count": 6,
   "id": "ff204c8f",
   "metadata": {},
   "outputs": [
    {
     "data": {
      "text/plain": [
       "0"
      ]
     },
     "execution_count": 6,
     "metadata": {},
     "output_type": "execute_result"
    }
   ],
   "source": [
    "# check for duplicate\n",
    "car_4_u.duplicated().sum()"
   ]
  },
  {
   "cell_type": "code",
   "execution_count": 7,
   "id": "e47ebe57",
   "metadata": {
    "scrolled": true
   },
   "outputs": [
    {
     "name": "stdout",
     "output_type": "stream",
     "text": [
      "<class 'pandas.core.frame.DataFrame'>\n",
      "RangeIndex: 7253 entries, 0 to 7252\n",
      "Data columns (total 14 columns):\n",
      " #   Column             Non-Null Count  Dtype  \n",
      "---  ------             --------------  -----  \n",
      " 0   S.No.              7253 non-null   int64  \n",
      " 1   Name               7253 non-null   object \n",
      " 2   Location           7253 non-null   object \n",
      " 3   Year               7253 non-null   int64  \n",
      " 4   Kilometers_Driven  7253 non-null   int64  \n",
      " 5   Fuel_Type          7253 non-null   object \n",
      " 6   Transmission       7253 non-null   object \n",
      " 7   Owner_Type         7253 non-null   object \n",
      " 8   Mileage            7251 non-null   object \n",
      " 9   Engine             7207 non-null   object \n",
      " 10  Power              7078 non-null   object \n",
      " 11  Seats              7200 non-null   float64\n",
      " 12  New_Price          7253 non-null   float64\n",
      " 13  Price              6019 non-null   float64\n",
      "dtypes: float64(3), int64(3), object(8)\n",
      "memory usage: 793.4+ KB\n"
     ]
    }
   ],
   "source": [
    "# Check the data type\n",
    "car_4_u.info()"
   ]
  },
  {
   "cell_type": "markdown",
   "id": "11dd362a",
   "metadata": {},
   "source": [
    "The dataset contains 7253 entries and 14 columns. It shows the various data types associated with each column. There are three columns as integer datatype, three columns as float data type and eight columns as object data type."
   ]
  },
  {
   "cell_type": "code",
   "execution_count": 8,
   "id": "0c8aff4a",
   "metadata": {},
   "outputs": [
    {
     "data": {
      "text/plain": [
       "S.No.                   0\n",
       "Name                    0\n",
       "Location                0\n",
       "Year                    0\n",
       "Kilometers_Driven       0\n",
       "Fuel_Type               0\n",
       "Transmission            0\n",
       "Owner_Type              0\n",
       "Mileage                 2\n",
       "Engine                 46\n",
       "Power                 175\n",
       "Seats                  53\n",
       "New_Price               0\n",
       "Price                1234\n",
       "dtype: int64"
      ]
     },
     "execution_count": 8,
     "metadata": {},
     "output_type": "execute_result"
    }
   ],
   "source": [
    "# check for missing values\n",
    "car_4_u.isnull().sum()"
   ]
  },
  {
   "cell_type": "markdown",
   "id": "ccdf2d02",
   "metadata": {},
   "source": [
    "There are two (2) missing values under Mileage, forty- six (46) missing values under Engine, one hundred and seventy- five(175) missing values under Power, fifty- three(53) missing values under seats and One thousand two hundres and thirty- four (1234) missing values under Price."
   ]
  },
  {
   "cell_type": "code",
   "execution_count": 9,
   "id": "9129897c",
   "metadata": {
    "scrolled": true
   },
   "outputs": [
    {
     "data": {
      "text/html": [
       "<div>\n",
       "<style scoped>\n",
       "    .dataframe tbody tr th:only-of-type {\n",
       "        vertical-align: middle;\n",
       "    }\n",
       "\n",
       "    .dataframe tbody tr th {\n",
       "        vertical-align: top;\n",
       "    }\n",
       "\n",
       "    .dataframe thead th {\n",
       "        text-align: right;\n",
       "    }\n",
       "</style>\n",
       "<table border=\"1\" class=\"dataframe\">\n",
       "  <thead>\n",
       "    <tr style=\"text-align: right;\">\n",
       "      <th></th>\n",
       "      <th>S.No.</th>\n",
       "      <th>Year</th>\n",
       "      <th>Kilometers_Driven</th>\n",
       "      <th>Seats</th>\n",
       "      <th>New_Price</th>\n",
       "      <th>Price</th>\n",
       "    </tr>\n",
       "  </thead>\n",
       "  <tbody>\n",
       "    <tr>\n",
       "      <th>count</th>\n",
       "      <td>7253.000000</td>\n",
       "      <td>7253.000000</td>\n",
       "      <td>7.253000e+03</td>\n",
       "      <td>7200.000000</td>\n",
       "      <td>7253.000000</td>\n",
       "      <td>6019.000000</td>\n",
       "    </tr>\n",
       "    <tr>\n",
       "      <th>mean</th>\n",
       "      <td>3626.000000</td>\n",
       "      <td>2013.365366</td>\n",
       "      <td>5.869906e+04</td>\n",
       "      <td>5.279722</td>\n",
       "      <td>21.307322</td>\n",
       "      <td>9.479468</td>\n",
       "    </tr>\n",
       "    <tr>\n",
       "      <th>std</th>\n",
       "      <td>2093.905084</td>\n",
       "      <td>3.254421</td>\n",
       "      <td>8.442772e+04</td>\n",
       "      <td>0.811660</td>\n",
       "      <td>24.256314</td>\n",
       "      <td>11.187917</td>\n",
       "    </tr>\n",
       "    <tr>\n",
       "      <th>min</th>\n",
       "      <td>0.000000</td>\n",
       "      <td>1996.000000</td>\n",
       "      <td>1.710000e+02</td>\n",
       "      <td>0.000000</td>\n",
       "      <td>3.910000</td>\n",
       "      <td>0.440000</td>\n",
       "    </tr>\n",
       "    <tr>\n",
       "      <th>25%</th>\n",
       "      <td>1813.000000</td>\n",
       "      <td>2011.000000</td>\n",
       "      <td>3.400000e+04</td>\n",
       "      <td>5.000000</td>\n",
       "      <td>7.880000</td>\n",
       "      <td>3.500000</td>\n",
       "    </tr>\n",
       "    <tr>\n",
       "      <th>50%</th>\n",
       "      <td>3626.000000</td>\n",
       "      <td>2014.000000</td>\n",
       "      <td>5.341600e+04</td>\n",
       "      <td>5.000000</td>\n",
       "      <td>11.300000</td>\n",
       "      <td>5.640000</td>\n",
       "    </tr>\n",
       "    <tr>\n",
       "      <th>75%</th>\n",
       "      <td>5439.000000</td>\n",
       "      <td>2016.000000</td>\n",
       "      <td>7.300000e+04</td>\n",
       "      <td>5.000000</td>\n",
       "      <td>21.690000</td>\n",
       "      <td>9.950000</td>\n",
       "    </tr>\n",
       "    <tr>\n",
       "      <th>max</th>\n",
       "      <td>7252.000000</td>\n",
       "      <td>2019.000000</td>\n",
       "      <td>6.500000e+06</td>\n",
       "      <td>10.000000</td>\n",
       "      <td>375.000000</td>\n",
       "      <td>160.000000</td>\n",
       "    </tr>\n",
       "  </tbody>\n",
       "</table>\n",
       "</div>"
      ],
      "text/plain": [
       "             S.No.         Year  Kilometers_Driven        Seats    New_Price  \\\n",
       "count  7253.000000  7253.000000       7.253000e+03  7200.000000  7253.000000   \n",
       "mean   3626.000000  2013.365366       5.869906e+04     5.279722    21.307322   \n",
       "std    2093.905084     3.254421       8.442772e+04     0.811660    24.256314   \n",
       "min       0.000000  1996.000000       1.710000e+02     0.000000     3.910000   \n",
       "25%    1813.000000  2011.000000       3.400000e+04     5.000000     7.880000   \n",
       "50%    3626.000000  2014.000000       5.341600e+04     5.000000    11.300000   \n",
       "75%    5439.000000  2016.000000       7.300000e+04     5.000000    21.690000   \n",
       "max    7252.000000  2019.000000       6.500000e+06    10.000000   375.000000   \n",
       "\n",
       "             Price  \n",
       "count  6019.000000  \n",
       "mean      9.479468  \n",
       "std      11.187917  \n",
       "min       0.440000  \n",
       "25%       3.500000  \n",
       "50%       5.640000  \n",
       "75%       9.950000  \n",
       "max     160.000000  "
      ]
     },
     "execution_count": 9,
     "metadata": {},
     "output_type": "execute_result"
    }
   ],
   "source": [
    "# descriptive computational analysis for numerical variables\n",
    "\n",
    "car_4_u.describe()"
   ]
  },
  {
   "cell_type": "markdown",
   "id": "9445d501",
   "metadata": {},
   "source": [
    "The datasets spans from the Year 1996 to 2019. The minimum for the prices of new and used cars are 3.9 and 0.44 respectively whereas the maximum are 375 and 160 respectively. Skemcars have no seat at all"
   ]
  },
  {
   "cell_type": "code",
   "execution_count": 10,
   "id": "40f37127",
   "metadata": {},
   "outputs": [
    {
     "data": {
      "text/html": [
       "<div>\n",
       "<style scoped>\n",
       "    .dataframe tbody tr th:only-of-type {\n",
       "        vertical-align: middle;\n",
       "    }\n",
       "\n",
       "    .dataframe tbody tr th {\n",
       "        vertical-align: top;\n",
       "    }\n",
       "\n",
       "    .dataframe thead th {\n",
       "        text-align: right;\n",
       "    }\n",
       "</style>\n",
       "<table border=\"1\" class=\"dataframe\">\n",
       "  <thead>\n",
       "    <tr style=\"text-align: right;\">\n",
       "      <th></th>\n",
       "      <th>Name</th>\n",
       "      <th>Location</th>\n",
       "      <th>Fuel_Type</th>\n",
       "      <th>Transmission</th>\n",
       "      <th>Owner_Type</th>\n",
       "      <th>Mileage</th>\n",
       "      <th>Engine</th>\n",
       "      <th>Power</th>\n",
       "    </tr>\n",
       "  </thead>\n",
       "  <tbody>\n",
       "    <tr>\n",
       "      <th>count</th>\n",
       "      <td>7253</td>\n",
       "      <td>7253</td>\n",
       "      <td>7253</td>\n",
       "      <td>7253</td>\n",
       "      <td>7253</td>\n",
       "      <td>7251</td>\n",
       "      <td>7207</td>\n",
       "      <td>7078</td>\n",
       "    </tr>\n",
       "    <tr>\n",
       "      <th>unique</th>\n",
       "      <td>2041</td>\n",
       "      <td>11</td>\n",
       "      <td>5</td>\n",
       "      <td>2</td>\n",
       "      <td>4</td>\n",
       "      <td>450</td>\n",
       "      <td>150</td>\n",
       "      <td>385</td>\n",
       "    </tr>\n",
       "    <tr>\n",
       "      <th>top</th>\n",
       "      <td>Mahindra XUV500 W8 2WD</td>\n",
       "      <td>Mumbai</td>\n",
       "      <td>Diesel</td>\n",
       "      <td>Manual</td>\n",
       "      <td>First</td>\n",
       "      <td>17.0 kmpl</td>\n",
       "      <td>1197 CC</td>\n",
       "      <td>74 bhp</td>\n",
       "    </tr>\n",
       "    <tr>\n",
       "      <th>freq</th>\n",
       "      <td>55</td>\n",
       "      <td>949</td>\n",
       "      <td>3852</td>\n",
       "      <td>5204</td>\n",
       "      <td>5952</td>\n",
       "      <td>207</td>\n",
       "      <td>732</td>\n",
       "      <td>280</td>\n",
       "    </tr>\n",
       "  </tbody>\n",
       "</table>\n",
       "</div>"
      ],
      "text/plain": [
       "                          Name Location Fuel_Type Transmission Owner_Type  \\\n",
       "count                     7253     7253      7253         7253       7253   \n",
       "unique                    2041       11         5            2          4   \n",
       "top     Mahindra XUV500 W8 2WD   Mumbai    Diesel       Manual      First   \n",
       "freq                        55      949      3852         5204       5952   \n",
       "\n",
       "          Mileage   Engine   Power  \n",
       "count        7251     7207    7078  \n",
       "unique        450      150     385  \n",
       "top     17.0 kmpl  1197 CC  74 bhp  \n",
       "freq          207      732     280  "
      ]
     },
     "execution_count": 10,
     "metadata": {},
     "output_type": "execute_result"
    }
   ],
   "source": [
    "# select only the features that are object data types and observe\n",
    "\n",
    "cat_car_4_u = car_4_u.select_dtypes(include = \"object\")\n",
    "\n",
    "cat_car_4_u.describe()"
   ]
  },
  {
   "cell_type": "markdown",
   "id": "6551e7ea",
   "metadata": {},
   "source": [
    "The preferred fuel type and transmission are Diesel and Manual cars and preferred car is Mahindra XUV500 W8 2WD"
   ]
  },
  {
   "cell_type": "code",
   "execution_count": 11,
   "id": "c1987d9a",
   "metadata": {
    "scrolled": true
   },
   "outputs": [
    {
     "name": "stdout",
     "output_type": "stream",
     "text": [
      "Mahindra XUV500 W8 2WD                  55\n",
      "Maruti Swift VDI                        49\n",
      "Maruti Swift Dzire VDI                  42\n",
      "Honda City 1.5 S MT                     39\n",
      "Maruti Swift VDI BSIV                   37\n",
      "                                        ..\n",
      "Chevrolet Beat LT Option                 1\n",
      "Skoda Rapid 1.6 MPI AT Elegance Plus     1\n",
      "Ford EcoSport 1.5 TDCi Ambiente          1\n",
      "Hyundai i10 Magna 1.1 iTech SE           1\n",
      "Hyundai Elite i20 Magna Plus             1\n",
      "Name: Name, Length: 2041, dtype: int64\n",
      "________________________________________\n",
      "Mumbai        949\n",
      "Hyderabad     876\n",
      "Coimbatore    772\n",
      "Kochi         772\n",
      "Pune          765\n",
      "Delhi         660\n",
      "Kolkata       654\n",
      "Chennai       591\n",
      "Jaipur        499\n",
      "Bangalore     440\n",
      "Ahmedabad     275\n",
      "Name: Location, dtype: int64\n",
      "________________________________________\n",
      "Diesel      3852\n",
      "Petrol      3325\n",
      "CNG           62\n",
      "LPG           12\n",
      "Electric       2\n",
      "Name: Fuel_Type, dtype: int64\n",
      "________________________________________\n",
      "Manual       5204\n",
      "Automatic    2049\n",
      "Name: Transmission, dtype: int64\n",
      "________________________________________\n",
      "First             5952\n",
      "Second            1152\n",
      "Third              137\n",
      "Fourth & Above      12\n",
      "Name: Owner_Type, dtype: int64\n",
      "________________________________________\n",
      "17.0 kmpl     207\n",
      "18.9 kmpl     201\n",
      "18.6 kmpl     144\n",
      "21.1 kmpl     106\n",
      "20.36 kmpl    105\n",
      "             ... \n",
      "22.8 km/kg      1\n",
      "8.0 kmpl        1\n",
      "7.81 kmpl       1\n",
      "14.47 kmpl      1\n",
      "17.15 kmpl      1\n",
      "Name: Mileage, Length: 450, dtype: int64\n",
      "________________________________________\n",
      "1197 CC    732\n",
      "1248 CC    610\n",
      "1498 CC    370\n",
      "998 CC     309\n",
      "1198 CC    281\n",
      "          ... \n",
      "1489 CC      1\n",
      "1422 CC      1\n",
      "2706 CC      1\n",
      "1978 CC      1\n",
      "1389 CC      1\n",
      "Name: Engine, Length: 150, dtype: int64\n",
      "________________________________________\n",
      "74 bhp       280\n",
      "98.6 bhp     166\n",
      "73.9 bhp     152\n",
      "140 bhp      142\n",
      "78.9 bhp     128\n",
      "            ... \n",
      "421 bhp        1\n",
      "89.75 bhp      1\n",
      "387.3 bhp      1\n",
      "226.6 bhp      1\n",
      "241.6 bhp      1\n",
      "Name: Power, Length: 385, dtype: int64\n",
      "________________________________________\n"
     ]
    }
   ],
   "source": [
    "for col in cat_car_4_u:\n",
    "    print(car_4_u[col].value_counts())\n",
    "    print(\"_\"*40)"
   ]
  },
  {
   "cell_type": "markdown",
   "id": "b5c55d8d",
   "metadata": {},
   "source": [
    "### Data Cleaning\n",
    "\n",
    "As a Data Scientist i need to find out if i will use all the variables. If not there is no point trying to clean all the missing values. I can decide to select the variables i will need and clean the affected parts in the variables that i will use to build my model.\n",
    "\n",
    "Price could be an important vaiable and missing values must be catered for.\n",
    "\n",
    "Engine, Power and Seat wmay not add any contribution to the model hence i could choose not bother to clean those variables but for the purpose of this exercise i will clean all."
   ]
  },
  {
   "cell_type": "markdown",
   "id": "f5566dd0",
   "metadata": {},
   "source": [
    "### Treating Price"
   ]
  },
  {
   "cell_type": "code",
   "execution_count": 12,
   "id": "9026650a",
   "metadata": {},
   "outputs": [
    {
     "data": {
      "text/plain": [
       "count    6019.000000\n",
       "mean        9.479468\n",
       "std        11.187917\n",
       "min         0.440000\n",
       "25%         3.500000\n",
       "50%         5.640000\n",
       "75%         9.950000\n",
       "max       160.000000\n",
       "Name: Price, dtype: float64"
      ]
     },
     "execution_count": 12,
     "metadata": {},
     "output_type": "execute_result"
    }
   ],
   "source": [
    "car_4_u[\"Price\"].describe()"
   ]
  },
  {
   "cell_type": "code",
   "execution_count": 13,
   "id": "4b744f21",
   "metadata": {},
   "outputs": [
    {
     "data": {
      "text/html": [
       "<div>\n",
       "<style scoped>\n",
       "    .dataframe tbody tr th:only-of-type {\n",
       "        vertical-align: middle;\n",
       "    }\n",
       "\n",
       "    .dataframe tbody tr th {\n",
       "        vertical-align: top;\n",
       "    }\n",
       "\n",
       "    .dataframe thead th {\n",
       "        text-align: right;\n",
       "    }\n",
       "</style>\n",
       "<table border=\"1\" class=\"dataframe\">\n",
       "  <thead>\n",
       "    <tr style=\"text-align: right;\">\n",
       "      <th></th>\n",
       "      <th>S.No.</th>\n",
       "      <th>Name</th>\n",
       "      <th>Location</th>\n",
       "      <th>Year</th>\n",
       "      <th>Kilometers_Driven</th>\n",
       "      <th>Fuel_Type</th>\n",
       "      <th>Transmission</th>\n",
       "      <th>Owner_Type</th>\n",
       "      <th>Mileage</th>\n",
       "      <th>Engine</th>\n",
       "      <th>Power</th>\n",
       "      <th>Seats</th>\n",
       "      <th>New_Price</th>\n",
       "      <th>Price</th>\n",
       "    </tr>\n",
       "  </thead>\n",
       "  <tbody>\n",
       "  </tbody>\n",
       "</table>\n",
       "</div>"
      ],
      "text/plain": [
       "Empty DataFrame\n",
       "Columns: [S.No., Name, Location, Year, Kilometers_Driven, Fuel_Type, Transmission, Owner_Type, Mileage, Engine, Power, Seats, New_Price, Price]\n",
       "Index: []"
      ]
     },
     "execution_count": 13,
     "metadata": {},
     "output_type": "execute_result"
    }
   ],
   "source": [
    "car_4_u[(car_4_u[\"Price\"] ==0.46)]"
   ]
  },
  {
   "cell_type": "markdown",
   "id": "7f353210",
   "metadata": {},
   "source": [
    "I will replace the missing values with 0.46 so we know all data with price as 0.46 belongs to the missing values replaced"
   ]
  },
  {
   "cell_type": "code",
   "execution_count": 14,
   "id": "bad9798f",
   "metadata": {},
   "outputs": [],
   "source": [
    "# fill missing rows in Price with 0.46\n",
    "\n",
    "car_4_u[\"Price\"].fillna(0.46, inplace = True)"
   ]
  },
  {
   "cell_type": "markdown",
   "id": "bacebb19",
   "metadata": {},
   "source": [
    "### Treating Mileage\n",
    "\n",
    "Mileage has only two missing values and i will drop it which i believe will not affect the data set"
   ]
  },
  {
   "cell_type": "code",
   "execution_count": 15,
   "id": "679caa7d",
   "metadata": {},
   "outputs": [
    {
     "data": {
      "text/plain": [
       "count          7251\n",
       "unique          450\n",
       "top       17.0 kmpl\n",
       "freq            207\n",
       "Name: Mileage, dtype: object"
      ]
     },
     "execution_count": 15,
     "metadata": {},
     "output_type": "execute_result"
    }
   ],
   "source": [
    "### Treating Power\n",
    "car_4_u[\"Mileage\"].describe()"
   ]
  },
  {
   "cell_type": "code",
   "execution_count": 16,
   "id": "97b5bbaf",
   "metadata": {},
   "outputs": [],
   "source": [
    "# drop rows in Mileage\n",
    "\n",
    "car_4_u.dropna(subset = [\"Mileage\"], inplace = True)\n",
    "car_4_u.reset_index(drop = True, inplace = True)"
   ]
  },
  {
   "cell_type": "code",
   "execution_count": 17,
   "id": "01707faf",
   "metadata": {},
   "outputs": [
    {
     "data": {
      "text/plain": [
       "count    7198.000000\n",
       "mean        5.279800\n",
       "std         0.811759\n",
       "min         0.000000\n",
       "25%         5.000000\n",
       "50%         5.000000\n",
       "75%         5.000000\n",
       "max        10.000000\n",
       "Name: Seats, dtype: float64"
      ]
     },
     "execution_count": 17,
     "metadata": {},
     "output_type": "execute_result"
    }
   ],
   "source": [
    "### Treating Seat\n",
    "\n",
    "car_4_u[\"Seats\"].describe()"
   ]
  },
  {
   "cell_type": "code",
   "execution_count": 18,
   "id": "c91f4929",
   "metadata": {},
   "outputs": [
    {
     "data": {
      "text/html": [
       "<div>\n",
       "<style scoped>\n",
       "    .dataframe tbody tr th:only-of-type {\n",
       "        vertical-align: middle;\n",
       "    }\n",
       "\n",
       "    .dataframe tbody tr th {\n",
       "        vertical-align: top;\n",
       "    }\n",
       "\n",
       "    .dataframe thead th {\n",
       "        text-align: right;\n",
       "    }\n",
       "</style>\n",
       "<table border=\"1\" class=\"dataframe\">\n",
       "  <thead>\n",
       "    <tr style=\"text-align: right;\">\n",
       "      <th></th>\n",
       "      <th>S.No.</th>\n",
       "      <th>Name</th>\n",
       "      <th>Location</th>\n",
       "      <th>Year</th>\n",
       "      <th>Kilometers_Driven</th>\n",
       "      <th>Fuel_Type</th>\n",
       "      <th>Transmission</th>\n",
       "      <th>Owner_Type</th>\n",
       "      <th>Mileage</th>\n",
       "      <th>Engine</th>\n",
       "      <th>Power</th>\n",
       "      <th>Seats</th>\n",
       "      <th>New_Price</th>\n",
       "      <th>Price</th>\n",
       "    </tr>\n",
       "  </thead>\n",
       "  <tbody>\n",
       "  </tbody>\n",
       "</table>\n",
       "</div>"
      ],
      "text/plain": [
       "Empty DataFrame\n",
       "Columns: [S.No., Name, Location, Year, Kilometers_Driven, Fuel_Type, Transmission, Owner_Type, Mileage, Engine, Power, Seats, New_Price, Price]\n",
       "Index: []"
      ]
     },
     "execution_count": 18,
     "metadata": {},
     "output_type": "execute_result"
    }
   ],
   "source": [
    "car_4_u[(car_4_u[\"Seats\"] ==1.0)]"
   ]
  },
  {
   "cell_type": "markdown",
   "id": "149821ef",
   "metadata": {},
   "source": [
    "Seat has 53 missing values and i will replace with 1.0 we know all  with Seat as 1 belongs to the missing values replaced"
   ]
  },
  {
   "cell_type": "code",
   "execution_count": 19,
   "id": "e0f4d0c8",
   "metadata": {},
   "outputs": [],
   "source": [
    "# fill missing rows in Seats with 1.0\n",
    "\n",
    "car_4_u[\"Seats\"].fillna(1.0, inplace = True)"
   ]
  },
  {
   "cell_type": "code",
   "execution_count": 20,
   "id": "2ce87da9",
   "metadata": {},
   "outputs": [
    {
     "data": {
      "text/plain": [
       "count        7205\n",
       "unique        149\n",
       "top       1197 CC\n",
       "freq          732\n",
       "Name: Engine, dtype: object"
      ]
     },
     "execution_count": 20,
     "metadata": {},
     "output_type": "execute_result"
    }
   ],
   "source": [
    "### Treating Engine\n",
    "\n",
    "car_4_u[\"Engine\"].describe()"
   ]
  },
  {
   "cell_type": "code",
   "execution_count": 21,
   "id": "034c9742",
   "metadata": {},
   "outputs": [
    {
     "data": {
      "text/plain": [
       "count       7076\n",
       "unique       384\n",
       "top       74 bhp\n",
       "freq         280\n",
       "Name: Power, dtype: object"
      ]
     },
     "execution_count": 21,
     "metadata": {},
     "output_type": "execute_result"
    }
   ],
   "source": [
    "### Treating Power\n",
    "car_4_u[\"Power\"].describe()\n"
   ]
  },
  {
   "cell_type": "markdown",
   "id": "54923b0b",
   "metadata": {},
   "source": [
    "I will replace the missing values in the Engine and Power with Unknown so we know the category that belongs in Unknown"
   ]
  },
  {
   "cell_type": "code",
   "execution_count": 22,
   "id": "4642750d",
   "metadata": {},
   "outputs": [],
   "source": [
    "# we decide to fill missing values with Unknown\n",
    "\n",
    "car_4_u['Engine'] = car_4_u['Engine'].fillna('Unknown')\n",
    "car_4_u['Power'] = car_4_u['Power'].fillna('Unknown')\n"
   ]
  },
  {
   "cell_type": "code",
   "execution_count": 23,
   "id": "af50501e",
   "metadata": {
    "scrolled": true
   },
   "outputs": [
    {
     "data": {
      "text/html": [
       "<div>\n",
       "<style scoped>\n",
       "    .dataframe tbody tr th:only-of-type {\n",
       "        vertical-align: middle;\n",
       "    }\n",
       "\n",
       "    .dataframe tbody tr th {\n",
       "        vertical-align: top;\n",
       "    }\n",
       "\n",
       "    .dataframe thead th {\n",
       "        text-align: right;\n",
       "    }\n",
       "</style>\n",
       "<table border=\"1\" class=\"dataframe\">\n",
       "  <thead>\n",
       "    <tr style=\"text-align: right;\">\n",
       "      <th></th>\n",
       "      <th>S.No.</th>\n",
       "      <th>Name</th>\n",
       "      <th>Location</th>\n",
       "      <th>Year</th>\n",
       "      <th>Kilometers_Driven</th>\n",
       "      <th>Fuel_Type</th>\n",
       "      <th>Transmission</th>\n",
       "      <th>Owner_Type</th>\n",
       "      <th>Mileage</th>\n",
       "      <th>Engine</th>\n",
       "      <th>Power</th>\n",
       "      <th>Seats</th>\n",
       "      <th>New_Price</th>\n",
       "      <th>Price</th>\n",
       "    </tr>\n",
       "  </thead>\n",
       "  <tbody>\n",
       "    <tr>\n",
       "      <th>76</th>\n",
       "      <td>76</td>\n",
       "      <td>Ford Fiesta 1.4 SXi TDCi</td>\n",
       "      <td>Jaipur</td>\n",
       "      <td>2008</td>\n",
       "      <td>111111</td>\n",
       "      <td>Diesel</td>\n",
       "      <td>Manual</td>\n",
       "      <td>First</td>\n",
       "      <td>17.8 kmpl</td>\n",
       "      <td>1399 CC</td>\n",
       "      <td>Unknown</td>\n",
       "      <td>5.0</td>\n",
       "      <td>11.685</td>\n",
       "      <td>2.00</td>\n",
       "    </tr>\n",
       "    <tr>\n",
       "      <th>79</th>\n",
       "      <td>79</td>\n",
       "      <td>Hyundai Santro Xing XL</td>\n",
       "      <td>Hyderabad</td>\n",
       "      <td>2005</td>\n",
       "      <td>87591</td>\n",
       "      <td>Petrol</td>\n",
       "      <td>Manual</td>\n",
       "      <td>First</td>\n",
       "      <td>0.0 kmpl</td>\n",
       "      <td>1086 CC</td>\n",
       "      <td>Unknown</td>\n",
       "      <td>5.0</td>\n",
       "      <td>4.550</td>\n",
       "      <td>1.30</td>\n",
       "    </tr>\n",
       "    <tr>\n",
       "      <th>89</th>\n",
       "      <td>89</td>\n",
       "      <td>Hyundai Santro Xing XO</td>\n",
       "      <td>Hyderabad</td>\n",
       "      <td>2007</td>\n",
       "      <td>73745</td>\n",
       "      <td>Petrol</td>\n",
       "      <td>Manual</td>\n",
       "      <td>First</td>\n",
       "      <td>17.0 kmpl</td>\n",
       "      <td>1086 CC</td>\n",
       "      <td>Unknown</td>\n",
       "      <td>5.0</td>\n",
       "      <td>4.550</td>\n",
       "      <td>2.10</td>\n",
       "    </tr>\n",
       "    <tr>\n",
       "      <th>120</th>\n",
       "      <td>120</td>\n",
       "      <td>Hyundai Santro Xing XL eRLX Euro III</td>\n",
       "      <td>Mumbai</td>\n",
       "      <td>2005</td>\n",
       "      <td>102000</td>\n",
       "      <td>Petrol</td>\n",
       "      <td>Manual</td>\n",
       "      <td>Second</td>\n",
       "      <td>17.0 kmpl</td>\n",
       "      <td>1086 CC</td>\n",
       "      <td>Unknown</td>\n",
       "      <td>5.0</td>\n",
       "      <td>4.550</td>\n",
       "      <td>0.85</td>\n",
       "    </tr>\n",
       "    <tr>\n",
       "      <th>143</th>\n",
       "      <td>143</td>\n",
       "      <td>Hyundai Santro Xing XO eRLX Euro II</td>\n",
       "      <td>Kochi</td>\n",
       "      <td>2008</td>\n",
       "      <td>80759</td>\n",
       "      <td>Petrol</td>\n",
       "      <td>Manual</td>\n",
       "      <td>Third</td>\n",
       "      <td>17.0 kmpl</td>\n",
       "      <td>1086 CC</td>\n",
       "      <td>Unknown</td>\n",
       "      <td>5.0</td>\n",
       "      <td>4.550</td>\n",
       "      <td>1.67</td>\n",
       "    </tr>\n",
       "    <tr>\n",
       "      <th>...</th>\n",
       "      <td>...</td>\n",
       "      <td>...</td>\n",
       "      <td>...</td>\n",
       "      <td>...</td>\n",
       "      <td>...</td>\n",
       "      <td>...</td>\n",
       "      <td>...</td>\n",
       "      <td>...</td>\n",
       "      <td>...</td>\n",
       "      <td>...</td>\n",
       "      <td>...</td>\n",
       "      <td>...</td>\n",
       "      <td>...</td>\n",
       "      <td>...</td>\n",
       "    </tr>\n",
       "    <tr>\n",
       "      <th>6894</th>\n",
       "      <td>6896</td>\n",
       "      <td>Toyota Etios Liva GD</td>\n",
       "      <td>Hyderabad</td>\n",
       "      <td>2013</td>\n",
       "      <td>86000</td>\n",
       "      <td>Diesel</td>\n",
       "      <td>Manual</td>\n",
       "      <td>First</td>\n",
       "      <td>23.59 kmpl</td>\n",
       "      <td>1364 CC</td>\n",
       "      <td>Unknown</td>\n",
       "      <td>5.0</td>\n",
       "      <td>8.525</td>\n",
       "      <td>0.46</td>\n",
       "    </tr>\n",
       "    <tr>\n",
       "      <th>6900</th>\n",
       "      <td>6902</td>\n",
       "      <td>Toyota Etios Liva V</td>\n",
       "      <td>Kochi</td>\n",
       "      <td>2012</td>\n",
       "      <td>59311</td>\n",
       "      <td>Petrol</td>\n",
       "      <td>Manual</td>\n",
       "      <td>First</td>\n",
       "      <td>18.3 kmpl</td>\n",
       "      <td>Unknown</td>\n",
       "      <td>Unknown</td>\n",
       "      <td>1.0</td>\n",
       "      <td>8.525</td>\n",
       "      <td>0.46</td>\n",
       "    </tr>\n",
       "    <tr>\n",
       "      <th>6945</th>\n",
       "      <td>6947</td>\n",
       "      <td>Toyota Etios Liva G</td>\n",
       "      <td>Delhi</td>\n",
       "      <td>2012</td>\n",
       "      <td>77800</td>\n",
       "      <td>Petrol</td>\n",
       "      <td>Manual</td>\n",
       "      <td>First</td>\n",
       "      <td>18.3 kmpl</td>\n",
       "      <td>1197 CC</td>\n",
       "      <td>Unknown</td>\n",
       "      <td>5.0</td>\n",
       "      <td>8.525</td>\n",
       "      <td>0.46</td>\n",
       "    </tr>\n",
       "    <tr>\n",
       "      <th>7090</th>\n",
       "      <td>7092</td>\n",
       "      <td>Hyundai Santro Xing XG AT eRLX Euro III</td>\n",
       "      <td>Coimbatore</td>\n",
       "      <td>2007</td>\n",
       "      <td>64168</td>\n",
       "      <td>Petrol</td>\n",
       "      <td>Automatic</td>\n",
       "      <td>First</td>\n",
       "      <td>17.0 kmpl</td>\n",
       "      <td>1086 CC</td>\n",
       "      <td>Unknown</td>\n",
       "      <td>5.0</td>\n",
       "      <td>4.550</td>\n",
       "      <td>0.46</td>\n",
       "    </tr>\n",
       "    <tr>\n",
       "      <th>7143</th>\n",
       "      <td>7145</td>\n",
       "      <td>Toyota Etios Liva G</td>\n",
       "      <td>Kolkata</td>\n",
       "      <td>2012</td>\n",
       "      <td>37212</td>\n",
       "      <td>Petrol</td>\n",
       "      <td>Manual</td>\n",
       "      <td>First</td>\n",
       "      <td>18.3 kmpl</td>\n",
       "      <td>1197 CC</td>\n",
       "      <td>Unknown</td>\n",
       "      <td>5.0</td>\n",
       "      <td>8.525</td>\n",
       "      <td>0.46</td>\n",
       "    </tr>\n",
       "  </tbody>\n",
       "</table>\n",
       "<p>175 rows × 14 columns</p>\n",
       "</div>"
      ],
      "text/plain": [
       "      S.No.                                     Name    Location  Year  \\\n",
       "76       76                 Ford Fiesta 1.4 SXi TDCi      Jaipur  2008   \n",
       "79       79                   Hyundai Santro Xing XL   Hyderabad  2005   \n",
       "89       89                   Hyundai Santro Xing XO   Hyderabad  2007   \n",
       "120     120     Hyundai Santro Xing XL eRLX Euro III      Mumbai  2005   \n",
       "143     143      Hyundai Santro Xing XO eRLX Euro II       Kochi  2008   \n",
       "...     ...                                      ...         ...   ...   \n",
       "6894   6896                     Toyota Etios Liva GD   Hyderabad  2013   \n",
       "6900   6902                      Toyota Etios Liva V       Kochi  2012   \n",
       "6945   6947                      Toyota Etios Liva G       Delhi  2012   \n",
       "7090   7092  Hyundai Santro Xing XG AT eRLX Euro III  Coimbatore  2007   \n",
       "7143   7145                      Toyota Etios Liva G     Kolkata  2012   \n",
       "\n",
       "      Kilometers_Driven Fuel_Type Transmission Owner_Type     Mileage  \\\n",
       "76               111111    Diesel       Manual      First   17.8 kmpl   \n",
       "79                87591    Petrol       Manual      First    0.0 kmpl   \n",
       "89                73745    Petrol       Manual      First   17.0 kmpl   \n",
       "120              102000    Petrol       Manual     Second   17.0 kmpl   \n",
       "143               80759    Petrol       Manual      Third   17.0 kmpl   \n",
       "...                 ...       ...          ...        ...         ...   \n",
       "6894              86000    Diesel       Manual      First  23.59 kmpl   \n",
       "6900              59311    Petrol       Manual      First   18.3 kmpl   \n",
       "6945              77800    Petrol       Manual      First   18.3 kmpl   \n",
       "7090              64168    Petrol    Automatic      First   17.0 kmpl   \n",
       "7143              37212    Petrol       Manual      First   18.3 kmpl   \n",
       "\n",
       "       Engine    Power  Seats  New_Price  Price  \n",
       "76    1399 CC  Unknown    5.0     11.685   2.00  \n",
       "79    1086 CC  Unknown    5.0      4.550   1.30  \n",
       "89    1086 CC  Unknown    5.0      4.550   2.10  \n",
       "120   1086 CC  Unknown    5.0      4.550   0.85  \n",
       "143   1086 CC  Unknown    5.0      4.550   1.67  \n",
       "...       ...      ...    ...        ...    ...  \n",
       "6894  1364 CC  Unknown    5.0      8.525   0.46  \n",
       "6900  Unknown  Unknown    1.0      8.525   0.46  \n",
       "6945  1197 CC  Unknown    5.0      8.525   0.46  \n",
       "7090  1086 CC  Unknown    5.0      4.550   0.46  \n",
       "7143  1197 CC  Unknown    5.0      8.525   0.46  \n",
       "\n",
       "[175 rows x 14 columns]"
      ]
     },
     "execution_count": 23,
     "metadata": {},
     "output_type": "execute_result"
    }
   ],
   "source": [
    "car_4_u[(car_4_u[\"Power\"] ==\"Unknown\")]"
   ]
  },
  {
   "cell_type": "code",
   "execution_count": 24,
   "id": "0b8da5c1",
   "metadata": {},
   "outputs": [
    {
     "name": "stdout",
     "output_type": "stream",
     "text": [
      "<class 'pandas.core.frame.DataFrame'>\n",
      "RangeIndex: 7251 entries, 0 to 7250\n",
      "Data columns (total 14 columns):\n",
      " #   Column             Non-Null Count  Dtype  \n",
      "---  ------             --------------  -----  \n",
      " 0   S.No.              7251 non-null   int64  \n",
      " 1   Name               7251 non-null   object \n",
      " 2   Location           7251 non-null   object \n",
      " 3   Year               7251 non-null   int64  \n",
      " 4   Kilometers_Driven  7251 non-null   int64  \n",
      " 5   Fuel_Type          7251 non-null   object \n",
      " 6   Transmission       7251 non-null   object \n",
      " 7   Owner_Type         7251 non-null   object \n",
      " 8   Mileage            7251 non-null   object \n",
      " 9   Engine             7251 non-null   object \n",
      " 10  Power              7251 non-null   object \n",
      " 11  Seats              7251 non-null   float64\n",
      " 12  New_Price          7251 non-null   float64\n",
      " 13  Price              7251 non-null   float64\n",
      "dtypes: float64(3), int64(3), object(8)\n",
      "memory usage: 793.2+ KB\n"
     ]
    },
    {
     "data": {
      "text/plain": [
       "S.No.                0\n",
       "Name                 0\n",
       "Location             0\n",
       "Year                 0\n",
       "Kilometers_Driven    0\n",
       "Fuel_Type            0\n",
       "Transmission         0\n",
       "Owner_Type           0\n",
       "Mileage              0\n",
       "Engine               0\n",
       "Power                0\n",
       "Seats                0\n",
       "New_Price            0\n",
       "Price                0\n",
       "dtype: int64"
      ]
     },
     "execution_count": 24,
     "metadata": {},
     "output_type": "execute_result"
    }
   ],
   "source": [
    "# Sanity check\n",
    "car_4_u.info()\n",
    "\n",
    "car_4_u. isnull().sum()"
   ]
  },
  {
   "cell_type": "markdown",
   "id": "d34a45ee",
   "metadata": {},
   "source": [
    "We no longer have missing values and every column is in its right data type"
   ]
  },
  {
   "cell_type": "markdown",
   "id": "88208df5",
   "metadata": {},
   "source": [
    "## Feature Engineering\n",
    "\n",
    "### Selecting the top 5 \n",
    "- Mileage \n",
    "- Engine  \n",
    "- Power"
   ]
  },
  {
   "cell_type": "code",
   "execution_count": 25,
   "id": "2cb75630",
   "metadata": {},
   "outputs": [
    {
     "data": {
      "text/plain": [
       "['17.0 kmpl', '18.9 kmpl', '18.6 kmpl', '21.1 kmpl', '20.36 kmpl']"
      ]
     },
     "execution_count": 25,
     "metadata": {},
     "output_type": "execute_result"
    }
   ],
   "source": [
    "# set threshold to 100 for Mileage\n",
    "threshold = 100\n",
    "\n",
    "# get the value count of mileage\n",
    "val_cnt = car_4_u[\"Mileage\"].value_counts()\n",
    "\n",
    "\n",
    "# filter the Mileage to only those with at least 100 occurrence\n",
    "Mileage_array = val_cnt[val_cnt.values >= threshold].index.tolist()\n",
    "Mileage_array"
   ]
  },
  {
   "cell_type": "code",
   "execution_count": 26,
   "id": "79549256",
   "metadata": {},
   "outputs": [
    {
     "data": {
      "text/plain": [
       "['74 bhp', 'Unknown', '98.6 bhp', '73.9 bhp', '140 bhp']"
      ]
     },
     "execution_count": 26,
     "metadata": {},
     "output_type": "execute_result"
    }
   ],
   "source": [
    "# set threshold to 140 for Power\n",
    "threshold = 140\n",
    "\n",
    "# get the value count of Power\n",
    "val_cnt_1 = car_4_u[\"Power\"].value_counts()\n",
    "\n",
    "\n",
    "# filter the Power to only those with at least 140 occurrence\n",
    "Power_array = val_cnt_1[val_cnt_1.values >= threshold].index.tolist()\n",
    "Power_array"
   ]
  },
  {
   "cell_type": "code",
   "execution_count": 27,
   "id": "dc228020",
   "metadata": {},
   "outputs": [
    {
     "data": {
      "text/plain": [
       "['1197 CC', '1248 CC', '1498 CC', '998 CC', '1198 CC']"
      ]
     },
     "execution_count": 27,
     "metadata": {},
     "output_type": "execute_result"
    }
   ],
   "source": [
    "# set threshold to 280 for Engine\n",
    "threshold = 280\n",
    "\n",
    "# get the value count of Engine\n",
    "val_cnt2 = car_4_u[\"Engine\"].value_counts()\n",
    "\n",
    "\n",
    "# filter the Engine to only those with at least 280 occurrence\n",
    "Engine_array = val_cnt2[val_cnt2.values >= threshold].index.tolist()\n",
    "Engine_array"
   ]
  },
  {
   "cell_type": "code",
   "execution_count": 28,
   "id": "2e8d6aaf",
   "metadata": {},
   "outputs": [],
   "source": [
    "Mileage_val = []\n",
    "\n",
    "for i in range(car_4_u.shape[0]):  # iterate over all rows in data\n",
    "    txt = car_4_u.Mileage.values[i]  # getting the values in Mileage column\n",
    "    flag = 0  # flag variable\n",
    "    for item in Mileage_array:  # iterate over the list of Mileage considered\n",
    "        if item in txt and flag == 0:  # checking if Mileage name is in the row\n",
    "            Mileage_val.append(item) # append to empty list\n",
    "            flag = 1\n",
    "    if flag == 0:  # if the row values is different from the list of Mileage considered\n",
    "        Mileage_val.append(\"Others\")"
   ]
  },
  {
   "cell_type": "code",
   "execution_count": 29,
   "id": "b895896f",
   "metadata": {},
   "outputs": [],
   "source": [
    "Power_val = []\n",
    "\n",
    "for i in range(car_4_u.shape[0]):  # iterate over all rows in data\n",
    "    txt = car_4_u.Power.values[i]  # getting the values in Power column\n",
    "    flag = 0  # flag variable\n",
    "    for item in Power_array:  # iterate over the list of Power considered\n",
    "        if item in txt and flag == 0:  # checking if Power name is in the row\n",
    "            Power_val.append(item) # append to empty list\n",
    "            flag = 1\n",
    "    if flag == 0:  # if the row values is different from the list of Power considered\n",
    "        Power_val.append(\"Others\")"
   ]
  },
  {
   "cell_type": "code",
   "execution_count": 30,
   "id": "408787de",
   "metadata": {},
   "outputs": [],
   "source": [
    "Engine_val = []\n",
    "\n",
    "for i in range(car_4_u.shape[0]):  # iterate over all rows in data\n",
    "    txt = car_4_u.Engine.values[i]  # getting the values in Engine column\n",
    "    flag = 0  # flag variable\n",
    "    for item in Engine_array:  # iterate over the list of Engine considered\n",
    "        if item in txt and flag == 0:  # checking if Mileage name is in the row\n",
    "            Engine_val.append(item) # append to empty list\n",
    "            flag = 1\n",
    "    if flag == 0:  # if the row values is different from the list of Engine considered\n",
    "        Engine_val.append(\"Others\")"
   ]
  },
  {
   "cell_type": "markdown",
   "id": "9df94445",
   "metadata": {},
   "source": [
    "Create new columns called New_Mileage, New_Engine and Power_New"
   ]
  },
  {
   "cell_type": "code",
   "execution_count": 31,
   "id": "9e92ef0e",
   "metadata": {},
   "outputs": [],
   "source": [
    "# Feature engineering.\n",
    "car_4_u[\"New_Mileage\"] = Mileage_val\n",
    "\n",
    "car_4_u[\"New_Engine\"] = Engine_val\n",
    "\n",
    "car_4_u[\"Power_New\"] = Power_val"
   ]
  },
  {
   "cell_type": "code",
   "execution_count": 32,
   "id": "57a3bf2d",
   "metadata": {},
   "outputs": [
    {
     "data": {
      "text/plain": [
       "Others        6488\n",
       "17.0 kmpl      207\n",
       "18.9 kmpl      201\n",
       "18.6 kmpl      144\n",
       "21.1 kmpl      106\n",
       "20.36 kmpl     105\n",
       "Name: New_Mileage, dtype: int64"
      ]
     },
     "execution_count": 32,
     "metadata": {},
     "output_type": "execute_result"
    }
   ],
   "source": [
    "# Sanity check\n",
    "\n",
    "car_4_u[\"New_Mileage\"].value_counts()"
   ]
  },
  {
   "cell_type": "code",
   "execution_count": 33,
   "id": "c35726cf",
   "metadata": {},
   "outputs": [
    {
     "data": {
      "text/plain": [
       "Others      6304\n",
       "74 bhp       312\n",
       "Unknown      175\n",
       "98.6 bhp     166\n",
       "73.9 bhp     152\n",
       "140 bhp      142\n",
       "Name: Power_New, dtype: int64"
      ]
     },
     "execution_count": 33,
     "metadata": {},
     "output_type": "execute_result"
    }
   ],
   "source": [
    "car_4_u[\"Power_New\"].value_counts()"
   ]
  },
  {
   "cell_type": "code",
   "execution_count": 34,
   "id": "f5b80ab0",
   "metadata": {},
   "outputs": [
    {
     "data": {
      "text/plain": [
       "Others     4912\n",
       "1197 CC     732\n",
       "1248 CC     610\n",
       "1498 CC     370\n",
       "998 CC      346\n",
       "1198 CC     281\n",
       "Name: New_Engine, dtype: int64"
      ]
     },
     "execution_count": 34,
     "metadata": {},
     "output_type": "execute_result"
    }
   ],
   "source": [
    "car_4_u[\"New_Engine\"].value_counts()"
   ]
  },
  {
   "cell_type": "markdown",
   "id": "b9d49efc",
   "metadata": {},
   "source": [
    "#### Visualization of the Data\n",
    "\n",
    "##### Univariate Analysis: Numerical Features"
   ]
  },
  {
   "cell_type": "code",
   "execution_count": 35,
   "id": "c8127165",
   "metadata": {},
   "outputs": [],
   "source": [
    "def histogram_boxplot(data, feature, figsize=(20, 10), kde=False, bins=None):\n",
    "    \"\"\"\n",
    "    Plot a boxplot and a histogram of a feature in a given dataframe.\n",
    "\n",
    "    Parameters:\n",
    "    -----------\n",
    "    data : pandas.DataFrame\n",
    "        The input dataframe.\n",
    "    feature : str\n",
    "        The name of the column to plot.\n",
    "    figsize : tuple of float, optional\n",
    "        The size of the figure. Default is (10, 5).\n",
    "    kde : bool, optional\n",
    "        Whether to show the density curve. Default is False.\n",
    "    bins : int or sequence of scalars or str, optional\n",
    "        Specification of histogram bins. Default is None.\n",
    "\n",
    "    Returns:\n",
    "    --------\n",
    "    None\n",
    "    \"\"\"\n",
    "    # create a 2x1 subplot with a shared x-axis\n",
    "    fig, (ax_box, ax_hist) = plt.subplots(\n",
    "        nrows=2,\n",
    "        sharex=True,\n",
    "        gridspec_kw={\"height_ratios\": (0.25, 0.75)},\n",
    "        figsize=figsize,\n",
    "    )\n",
    "\n",
    "    # plot the boxplot on the top subplot\n",
    "    sns.boxplot(\n",
    "        data=data, x=feature, ax=ax_box, showmeans=True, color=\"red\"\n",
    "    )\n",
    "\n",
    "    # plot the histogram on the bottom subplot\n",
    "    if bins:\n",
    "        # if bins are specified, use them in the histogram plot\n",
    "        sns.histplot(data=data, x=feature, kde=kde, ax=ax_hist, bins=bins, palette=\"muted\")\n",
    "    else:\n",
    "        # if bins are not specified, use the default number of bins in the histogram plot\n",
    "        sns.histplot(data=data, x=feature, kde=kde, ax=ax_hist)\n",
    "\n",
    "    # add vertical lines at the mean and median values of the feature in the histogram plot\n",
    "    ax_hist.axvline(data[feature].mean(), color=\"green\", linestyle=\"--\")\n",
    "    ax_hist.axvline(data[feature].median(), color=\"violet\", linestyle=\"-\")\n",
    "\n",
    "    # show the plot\n",
    "    plt.show()\n"
   ]
  },
  {
   "cell_type": "code",
   "execution_count": 36,
   "id": "6bffde88",
   "metadata": {},
   "outputs": [
    {
     "data": {
      "image/png": "[encoded data removed]",
      "text/plain": [
       "<Figure size 2000x1000 with 2 Axes>"
      ]
     },
     "metadata": {},
     "output_type": "display_data"
    }
   ],
   "source": [
    "histogram_boxplot(data= car_4_u, feature = \"Price\")"
   ]
  },
  {
   "cell_type": "code",
   "execution_count": 37,
   "id": "e3b3adbe",
   "metadata": {},
   "outputs": [
    {
     "data": {
      "image/png": "[encoded data removed]",
      "text/plain": [
       "<Figure size 2000x1000 with 2 Axes>"
      ]
     },
     "metadata": {},
     "output_type": "display_data"
    }
   ],
   "source": [
    "histogram_boxplot(data= car_4_u, feature = \"New_Price\")"
   ]
  },
  {
   "cell_type": "markdown",
   "id": "bce654c4",
   "metadata": {},
   "source": [
    "These plots are rightly skewed as their means are higher than their medians and we see a number of outliers that need to be treated"
   ]
  },
  {
   "cell_type": "code",
   "execution_count": 38,
   "id": "d20a3e9f",
   "metadata": {},
   "outputs": [
    {
     "data": {
      "image/png": "[encoded data removed]",
      "text/plain": [
       "<Figure size 2000x1000 with 2 Axes>"
      ]
     },
     "metadata": {},
     "output_type": "display_data"
    }
   ],
   "source": [
    "histogram_boxplot(data= car_4_u, feature = \"Seats\")"
   ]
  },
  {
   "cell_type": "code",
   "execution_count": 39,
   "id": "a0009fcd",
   "metadata": {},
   "outputs": [
    {
     "data": {
      "image/png": "[encoded data removed]",
      "text/plain": [
       "<Figure size 2000x1000 with 2 Axes>"
      ]
     },
     "metadata": {},
     "output_type": "display_data"
    }
   ],
   "source": [
    "histogram_boxplot(data= car_4_u, feature = \"Kilometers_Driven\")"
   ]
  },
  {
   "cell_type": "markdown",
   "id": "f31b0200",
   "metadata": {},
   "source": [
    "The mean and median are quite close in Kilometers Driven with outliers"
   ]
  },
  {
   "cell_type": "markdown",
   "id": "624fc45c",
   "metadata": {},
   "source": [
    "##### Univariate Analysis: Categorical Features"
   ]
  },
  {
   "cell_type": "code",
   "execution_count": 40,
   "id": "8db8ca2a",
   "metadata": {},
   "outputs": [],
   "source": [
    "# Function to create labeled barplots with optional percentage display\n",
    "\n",
    "def labeled_barplot(data, feature, perc=False, n=None):\n",
    "    \"\"\"\n",
    "    Plot a labeled barplot of a categorical feature in a given dataframe.\n",
    "\n",
    "    Parameters:\n",
    "    -----------\n",
    "    data : pandas.DataFrame\n",
    "        The input dataframe.\n",
    "    feature : str\n",
    "        The name of the column to plot.\n",
    "    perc : bool, optional\n",
    "        Whether to display percentages instead of count. Default is False.\n",
    "    n : int, optional\n",
    "        The number of top category levels to display. Default is None (display all levels).\n",
    "\n",
    "    Returns:\n",
    "    --------\n",
    "    None\n",
    "    \"\"\"\n",
    "    total = len(data[feature])  # get the length of the column\n",
    "    count = data[feature].nunique()  # get the number of unique categories\n",
    "\n",
    "    # Set the size of the plot based on the number of categories to be displayed\n",
    "    if n is None:\n",
    "        plt.figure(figsize=(count + 1, 5))\n",
    "    else:\n",
    "        plt.figure(figsize=(n + 1, 5))\n",
    "\n",
    "    plt.xticks(rotation = 45, fontsize = 14)  # rotate x-tick labels and set font size\n",
    "    ax = sns.countplot(\n",
    "        data=data,\n",
    "        x=feature,\n",
    "        palette=\"Set2\",\n",
    "        order=data[feature].value_counts().index[:n].sort_values(),  # set the order of bars based on the counts\n",
    "    )\n",
    "\n",
    "    for p in ax.patches:\n",
    "        if perc == True:\n",
    "            label = \"{:.1f}%\".format(\n",
    "                100 * p.get_height() / total\n",
    "            )  # calculate percentage of each category\n",
    "        else:\n",
    "            label = p.get_height()  # get the count of each category\n",
    "\n",
    "        x = p.get_x() + p.get_width() / 2  # calculate the x coordinate of the bar\n",
    "        y = p.get_height()  # get the height of the bar\n",
    "\n",
    "        ax.annotate(\n",
    "            label,\n",
    "            (x, y),\n",
    "            ha=\"center\",\n",
    "            va=\"center\",\n",
    "            size=12,\n",
    "            xytext=(0, 5),\n",
    "            textcoords=\"offset points\",\n",
    "        )  # add the label to the top of each bar\n",
    "\n",
    "    plt.show()  # show the plot\n"
   ]
  },
  {
   "cell_type": "code",
   "execution_count": 41,
   "id": "a06611f2",
   "metadata": {},
   "outputs": [
    {
     "data": {
      "image/png": "[encoded data removed]",
      "text/plain": [
       "<Figure size 700x500 with 1 Axes>"
      ]
     },
     "metadata": {},
     "output_type": "display_data"
    }
   ],
   "source": [
    "labeled_barplot(data = car_4_u, feature= \"Power_New\", perc = True)"
   ]
  },
  {
   "cell_type": "markdown",
   "id": "6ce5fd7e",
   "metadata": {},
   "source": [
    "Majority of the power in engine is in Others follwed by those cars with 74 bhp power in engine. The rest are about the same percentages"
   ]
  },
  {
   "cell_type": "code",
   "execution_count": 42,
   "id": "d7c4cc5b",
   "metadata": {},
   "outputs": [
    {
     "data": {
      "image/png": "[encoded data removed]",
      "text/plain": [
       "<Figure size 500x500 with 1 Axes>"
      ]
     },
     "metadata": {},
     "output_type": "display_data"
    }
   ],
   "source": [
    "labeled_barplot(data = car_4_u, feature= \"Fuel_Type\", perc = True)"
   ]
  },
  {
   "cell_type": "markdown",
   "id": "00484486",
   "metadata": {},
   "source": [
    "Majority of the cars run on Diesel with 53.1% followed by Petrol. LPG and CNG are under 1% "
   ]
  },
  {
   "cell_type": "code",
   "execution_count": 43,
   "id": "1826a539",
   "metadata": {},
   "outputs": [
    {
     "data": {
      "image/png": "[encoded data removed]",
      "text/plain": [
       "<Figure size 700x500 with 1 Axes>"
      ]
     },
     "metadata": {},
     "output_type": "display_data"
    }
   ],
   "source": [
    "labeled_barplot(data = car_4_u, feature= \"New_Mileage\", perc = True)"
   ]
  },
  {
   "cell_type": "markdown",
   "id": "fb275ad1",
   "metadata": {},
   "source": [
    "Others is leading Mileage follwed by cars with 17.0 kmpl mileage then 18.9 kmpl"
   ]
  },
  {
   "cell_type": "code",
   "execution_count": 44,
   "id": "e3110cbe",
   "metadata": {},
   "outputs": [],
   "source": [
    "# Finding the correlation with the numerical variables"
   ]
  },
  {
   "cell_type": "code",
   "execution_count": 45,
   "id": "e129cbbc",
   "metadata": {},
   "outputs": [],
   "source": [
    "# Select numerical variables\n",
    "car_num_data = car_4_u.select_dtypes(include = \"number\")"
   ]
  },
  {
   "cell_type": "code",
   "execution_count": 46,
   "id": "9021c69c",
   "metadata": {},
   "outputs": [
    {
     "data": {
      "text/html": [
       "<div>\n",
       "<style scoped>\n",
       "    .dataframe tbody tr th:only-of-type {\n",
       "        vertical-align: middle;\n",
       "    }\n",
       "\n",
       "    .dataframe tbody tr th {\n",
       "        vertical-align: top;\n",
       "    }\n",
       "\n",
       "    .dataframe thead th {\n",
       "        text-align: right;\n",
       "    }\n",
       "</style>\n",
       "<table border=\"1\" class=\"dataframe\">\n",
       "  <thead>\n",
       "    <tr style=\"text-align: right;\">\n",
       "      <th></th>\n",
       "      <th>S.No.</th>\n",
       "      <th>Year</th>\n",
       "      <th>Kilometers_Driven</th>\n",
       "      <th>Seats</th>\n",
       "      <th>New_Price</th>\n",
       "      <th>Price</th>\n",
       "    </tr>\n",
       "  </thead>\n",
       "  <tbody>\n",
       "    <tr>\n",
       "      <th>S.No.</th>\n",
       "      <td>1.000000</td>\n",
       "      <td>0.005592</td>\n",
       "      <td>-0.007677</td>\n",
       "      <td>-0.007709</td>\n",
       "      <td>-0.020730</td>\n",
       "      <td>-0.219998</td>\n",
       "    </tr>\n",
       "    <tr>\n",
       "      <th>Year</th>\n",
       "      <td>0.005592</td>\n",
       "      <td>1.000000</td>\n",
       "      <td>-0.187881</td>\n",
       "      <td>0.045319</td>\n",
       "      <td>-0.006231</td>\n",
       "      <td>0.263657</td>\n",
       "    </tr>\n",
       "    <tr>\n",
       "      <th>Kilometers_Driven</th>\n",
       "      <td>-0.007677</td>\n",
       "      <td>-0.187881</td>\n",
       "      <td>1.000000</td>\n",
       "      <td>0.078187</td>\n",
       "      <td>0.015499</td>\n",
       "      <td>-0.010398</td>\n",
       "    </tr>\n",
       "    <tr>\n",
       "      <th>Seats</th>\n",
       "      <td>-0.007709</td>\n",
       "      <td>0.045319</td>\n",
       "      <td>0.078187</td>\n",
       "      <td>1.000000</td>\n",
       "      <td>0.030154</td>\n",
       "      <td>0.049937</td>\n",
       "    </tr>\n",
       "    <tr>\n",
       "      <th>New_Price</th>\n",
       "      <td>-0.020730</td>\n",
       "      <td>-0.006231</td>\n",
       "      <td>0.015499</td>\n",
       "      <td>0.030154</td>\n",
       "      <td>1.000000</td>\n",
       "      <td>0.667512</td>\n",
       "    </tr>\n",
       "    <tr>\n",
       "      <th>Price</th>\n",
       "      <td>-0.219998</td>\n",
       "      <td>0.263657</td>\n",
       "      <td>-0.010398</td>\n",
       "      <td>0.049937</td>\n",
       "      <td>0.667512</td>\n",
       "      <td>1.000000</td>\n",
       "    </tr>\n",
       "  </tbody>\n",
       "</table>\n",
       "</div>"
      ],
      "text/plain": [
       "                      S.No.      Year  Kilometers_Driven     Seats  New_Price  \\\n",
       "S.No.              1.000000  0.005592          -0.007677 -0.007709  -0.020730   \n",
       "Year               0.005592  1.000000          -0.187881  0.045319  -0.006231   \n",
       "Kilometers_Driven -0.007677 -0.187881           1.000000  0.078187   0.015499   \n",
       "Seats             -0.007709  0.045319           0.078187  1.000000   0.030154   \n",
       "New_Price         -0.020730 -0.006231           0.015499  0.030154   1.000000   \n",
       "Price             -0.219998  0.263657          -0.010398  0.049937   0.667512   \n",
       "\n",
       "                      Price  \n",
       "S.No.             -0.219998  \n",
       "Year               0.263657  \n",
       "Kilometers_Driven -0.010398  \n",
       "Seats              0.049937  \n",
       "New_Price          0.667512  \n",
       "Price              1.000000  "
      ]
     },
     "execution_count": 46,
     "metadata": {},
     "output_type": "execute_result"
    }
   ],
   "source": [
    "# check for correlation\n",
    "mat_corr = car_num_data.corr()\n",
    "mat_corr"
   ]
  },
  {
   "cell_type": "code",
   "execution_count": 47,
   "id": "63f4f845",
   "metadata": {},
   "outputs": [
    {
     "data": {
      "image/png": "[encoded data removed]",
      "text/plain": [
       "<Figure size 1200x700 with 2 Axes>"
      ]
     },
     "metadata": {},
     "output_type": "display_data"
    }
   ],
   "source": [
    "plt.figure(figsize = (12,7))\n",
    "sns.heatmap(mat_corr, annot= True, vmin = -1, vmax = 1)\n",
    "plt.title(\"Heatmap showing correlation of features with target\")\n",
    "\n",
    "# save plot\n",
    "plt.savefig(\"Heatmap showing correlation of features with target.png\", bbox_inches='tight')\n",
    "\n",
    "plt.show()"
   ]
  },
  {
   "cell_type": "markdown",
   "id": "75a677ed",
   "metadata": {},
   "source": [
    "We notice multicollinearity between New_Price and Price which we do not want. The correlation between the targets(New_Price and Price) and the variables are not high. We see a not so strong correlation between Year and Price. Seial Number has no impact on the prices of used cars"
   ]
  },
  {
   "cell_type": "markdown",
   "id": "8806942e",
   "metadata": {},
   "source": [
    "### Confirming the Heatmap Correlation with scatterplots"
   ]
  },
  {
   "cell_type": "code",
   "execution_count": 48,
   "id": "065d70a0",
   "metadata": {},
   "outputs": [
    {
     "data": {
      "image/png": "[encoded data removed]",
      "text/plain": [
       "<Figure size 2000x500 with 4 Axes>"
      ]
     },
     "metadata": {},
     "output_type": "display_data"
    }
   ],
   "source": [
    "# Selecting the features\n",
    "x_feat_1 = [\"S.No.\", \"Year\", \"Kilometers_Driven\", \"Seats\"]\n",
    "\n",
    "# Selecting the target\n",
    "y_feat_2 = [\"Price\"]\n",
    "\n",
    "fig, axes = plt.subplots(nrows=1, ncols=len(x_feat_1), figsize=(20, 5))\n",
    "\n",
    "for o, x_feat in enumerate(x_feat_1):\n",
    "    axes[o].scatter(car_4_u[x_feat], car_4_u[y_feat_2[0]])\n",
    "    axes[o].set_xlabel(x_feat)\n",
    "    axes[o].set_ylabel(y_feat_2[0])\n",
    "    axes[o].set_title(f'{x_feat} vs {y_feat_2[0]}')\n",
    "    axes[o].grid(False)\n",
    "\n",
    "plt.savefig(\"scatter_plots_features_vs_target.png\")\n",
    "\n",
    "plt.tight_layout()\n",
    "plt.show()"
   ]
  },
  {
   "cell_type": "markdown",
   "id": "c6c90f78",
   "metadata": {},
   "source": [
    "There is no correlation between Serial Number and Price, Kilometers driven and Price and Seats and Price. We see some correlation though not strong between Year and Price. As the Year goes up we see a rise in Price of used cars"
   ]
  },
  {
   "cell_type": "markdown",
   "id": "8e7d20b3",
   "metadata": {},
   "source": [
    "### Correlation with categorical features and Price (target)"
   ]
  },
  {
   "cell_type": "code",
   "execution_count": 49,
   "id": "d1ead069",
   "metadata": {},
   "outputs": [
    {
     "data": {
      "image/png": "[encoded data removed]",
      "text/plain": [
       "<Figure size 1200x600 with 4 Axes>"
      ]
     },
     "metadata": {},
     "output_type": "display_data"
    }
   ],
   "source": [
    "# Create subplots\n",
    "fig, axs = plt.subplots(nrows=2, ncols=2, figsize=(12, 6))\n",
    "\n",
    "# Plot first boxplot\n",
    "sns.boxplot(x=\"Power_New\", y=\"Price\", data=car_4_u, ax=axs[0, 0])\n",
    "axs[0, 0].set_title(\"Power vs Price\")\n",
    "\n",
    "# Plot second boxplot\n",
    "sns.boxplot(x=\"Fuel_Type\", y=\"Price\", data=car_4_u, ax=axs[0, 1])\n",
    "axs[0, 1].set_title(\"Fuel Type vs Price\")\n",
    "\n",
    "# Plot third boxplot\n",
    "sns.boxplot(x=\"New_Mileage\", y=\"Price\", data=car_4_u, ax=axs[1, 0])\n",
    "axs[1, 0].set_title(\"New Mileage vs Price\")\n",
    "\n",
    "# Plot fourth boxplot\n",
    "sns.boxplot(x=\"New_Engine\", y=\"Price\", data=car_4_u, ax=axs[1, 1])\n",
    "axs[1, 1].set_title(\"Engine vs Price\")\n",
    "\n",
    "# Adjust spacing between plots\n",
    "plt.subplots_adjust(wspace=0.4)\n",
    "\n",
    "# Save the plot\n",
    "plt.savefig(\"boxplots.png\", dpi=300)\n",
    "\n",
    "# Display the plot\n",
    "plt.show()\n"
   ]
  },
  {
   "cell_type": "markdown",
   "id": "d7996854",
   "metadata": {},
   "source": [
    "There seems to have price rise with Petrol cars compared with the others cars using other fuel types. Others seem to be high among these columns but we are unable to break that down. We notice high outliers as well"
   ]
  },
  {
   "cell_type": "markdown",
   "id": "8dd4ba04",
   "metadata": {},
   "source": [
    "### Detecting Outliers and Treatment"
   ]
  },
  {
   "cell_type": "code",
   "execution_count": 50,
   "id": "ef03faee",
   "metadata": {},
   "outputs": [
    {
     "data": {
      "image/png": "[encoded data removed]",
      "text/plain": [
       "<Figure size 2000x2000 with 6 Axes>"
      ]
     },
     "metadata": {},
     "output_type": "display_data"
    }
   ],
   "source": [
    "# outlier detection using boxplot\n",
    "plt.figure(figsize = (20, 20))\n",
    "\n",
    "for i, variable in enumerate (car_num_data):\n",
    "    plt.subplot(5, 4, i + 1)\n",
    "    plt.boxplot(car_4_u[variable])\n",
    "    plt.title(variable)\n",
    "\n",
    "plt.savefig(\"outlier_plots.png\")\n",
    "plt.show()"
   ]
  },
  {
   "cell_type": "markdown",
   "id": "485d7843",
   "metadata": {},
   "source": [
    "We are able to visualize all the outliers in the numerical features. We will treat all the outliers minus the target which is Price. Serial Number does not have outliers"
   ]
  },
  {
   "cell_type": "markdown",
   "id": "b6f0470d",
   "metadata": {},
   "source": [
    "#### Treating Outliers"
   ]
  },
  {
   "cell_type": "code",
   "execution_count": 51,
   "id": "2f336b34",
   "metadata": {},
   "outputs": [
    {
     "data": {
      "text/plain": [
       "Index(['S.No.', 'Year', 'Kilometers_Driven', 'Seats'], dtype='object')"
      ]
     },
     "execution_count": 51,
     "metadata": {},
     "output_type": "execute_result"
    }
   ],
   "source": [
    "car_num_data.drop([\"Price\", \"New_Price\"], axis = 1, inplace = True)\n",
    "\n",
    "car_num_data.columns"
   ]
  },
  {
   "cell_type": "code",
   "execution_count": 52,
   "id": "9b71bb3d",
   "metadata": {},
   "outputs": [],
   "source": [
    "# Function to treat outliers in numerical variables using IQR method\n",
    "def treat_outliers(car_4_u, col):\n",
    "    \"\"\"\n",
    "    Treat outliers in numerical variables\n",
    "    df: DataFrame\n",
    "    col: str, name of the numerical variable\n",
    "    \"\"\"\n",
    "    Q1 = car_4_u[col].quantile(0.25) # first quartile\n",
    "    Q3 = car_4_u[col].quantile(0.75) # third quartile\n",
    "    IQR = Q3 - Q1 # interquartile range\n",
    "    lower_whisker = Q1 - (1.5 * IQR) # calculate lower whisker\n",
    "    upper_whisker = Q3 + (1.5 * IQR) # calculate upper whisker\n",
    "    car_4_u[col] = np.clip(car_4_u[col], lower_whisker, upper_whisker) # clip the values of the variable between the lower and upper whisker\n",
    "    return car_4_u"
   ]
  },
  {
   "cell_type": "markdown",
   "id": "c054114b",
   "metadata": {},
   "source": [
    "I used clipping to treat the outlier, any outlier below the lower whisker or upper whiskers were clipped to the the lower and upper whiskers respectively"
   ]
  },
  {
   "cell_type": "code",
   "execution_count": 53,
   "id": "7d6f3a6d",
   "metadata": {},
   "outputs": [],
   "source": [
    "# Function to treat outliers in all numerical variables of a DataFrame\n",
    "def treat_outliers_all(car_4_u, col_list):\n",
    "    \"\"\"\n",
    "    Treat outliers in all numerical variables of a DataFrame\n",
    "    df: DataFrame\n",
    "    col_list: list of str, names of the numerical variables\n",
    "    \"\"\"\n",
    "    for c in col_list:\n",
    "        car_4_u = treat_outliers(car_4_u, c)\n",
    "    return car_4_u"
   ]
  },
  {
   "cell_type": "code",
   "execution_count": 54,
   "id": "6ac5d9f4",
   "metadata": {},
   "outputs": [],
   "source": [
    "car_4_u = treat_outliers_all(car_4_u, car_num_data)"
   ]
  },
  {
   "cell_type": "code",
   "execution_count": 55,
   "id": "71d60123",
   "metadata": {},
   "outputs": [
    {
     "data": {
      "image/png": "[encoded data removed]",
      "text/plain": [
       "<Figure size 2000x2000 with 4 Axes>"
      ]
     },
     "metadata": {},
     "output_type": "display_data"
    }
   ],
   "source": [
    "# outlier detection using boxplot\n",
    "plt.figure(figsize = (20, 20))\n",
    "\n",
    "for i, variable in enumerate (car_num_data):\n",
    "    plt.subplot(5, 4, i + 1)\n",
    "    plt.boxplot(car_4_u[variable])\n",
    "    plt.title(variable)\n",
    "\n",
    "plt.savefig(\"outlier_plots.png\")\n",
    "plt.show()"
   ]
  },
  {
   "cell_type": "code",
   "execution_count": 56,
   "id": "49274213",
   "metadata": {},
   "outputs": [
    {
     "data": {
      "image/png": "[encoded data removed]",
      "text/plain": [
       "<Figure size 2000x1000 with 2 Axes>"
      ]
     },
     "metadata": {},
     "output_type": "display_data"
    }
   ],
   "source": [
    "#transform the target using log transformation\n",
    "car_4_u[\"Price_log\"] = np.log(car_4_u[\"Price\"]) +1e-6\n",
    "\n",
    "histogram_boxplot(data= car_4_u, feature = \"Price_log\")"
   ]
  },
  {
   "cell_type": "markdown",
   "id": "c92ee5b7",
   "metadata": {},
   "source": [
    "I want to log transform the Target to make the right skewed distribution appropriately normally distributed"
   ]
  },
  {
   "cell_type": "markdown",
   "id": "6a01def5",
   "metadata": {},
   "source": [
    "###  Model Building"
   ]
  },
  {
   "cell_type": "code",
   "execution_count": 57,
   "id": "daafb11a",
   "metadata": {},
   "outputs": [
    {
     "data": {
      "text/plain": [
       "Index(['S.No.', 'Name', 'Location', 'Year', 'Kilometers_Driven', 'Fuel_Type',\n",
       "       'Transmission', 'Owner_Type', 'Mileage', 'Engine', 'Power', 'Seats',\n",
       "       'New_Price', 'Price', 'New_Mileage', 'New_Engine', 'Power_New',\n",
       "       'Price_log'],\n",
       "      dtype='object')"
      ]
     },
     "execution_count": 57,
     "metadata": {},
     "output_type": "execute_result"
    }
   ],
   "source": [
    "# We first need to select the features that we want to use\n",
    "car_4_u.columns"
   ]
  },
  {
   "cell_type": "code",
   "execution_count": 58,
   "id": "834155f0",
   "metadata": {},
   "outputs": [],
   "source": [
    "# Select features and target\n",
    "\n",
    "x = car_4_u[[\"Kilometers_Driven\", \"Fuel_Type\", \"Transmission\", \"Owner_Type\", \"Seats\", \"New_Mileage\", \"New_Engine\", \n",
    "                \"Power_New\", \"S.No.\"]]\n",
    "\n",
    "y = car_4_u[\"Price_log\"] # +1e-10"
   ]
  },
  {
   "cell_type": "code",
   "execution_count": 59,
   "id": "f0f09e80",
   "metadata": {},
   "outputs": [
    {
     "data": {
      "text/html": [
       "<div>\n",
       "<style scoped>\n",
       "    .dataframe tbody tr th:only-of-type {\n",
       "        vertical-align: middle;\n",
       "    }\n",
       "\n",
       "    .dataframe tbody tr th {\n",
       "        vertical-align: top;\n",
       "    }\n",
       "\n",
       "    .dataframe thead th {\n",
       "        text-align: right;\n",
       "    }\n",
       "</style>\n",
       "<table border=\"1\" class=\"dataframe\">\n",
       "  <thead>\n",
       "    <tr style=\"text-align: right;\">\n",
       "      <th></th>\n",
       "      <th>Kilometers_Driven</th>\n",
       "      <th>Seats</th>\n",
       "      <th>S.No.</th>\n",
       "      <th>Fuel_Type_Diesel</th>\n",
       "      <th>Fuel_Type_LPG</th>\n",
       "      <th>Fuel_Type_Petrol</th>\n",
       "      <th>Transmission_Manual</th>\n",
       "      <th>Owner_Type_Fourth &amp; Above</th>\n",
       "      <th>Owner_Type_Second</th>\n",
       "      <th>Owner_Type_Third</th>\n",
       "      <th>...</th>\n",
       "      <th>New_Engine_1198 CC</th>\n",
       "      <th>New_Engine_1248 CC</th>\n",
       "      <th>New_Engine_1498 CC</th>\n",
       "      <th>New_Engine_998 CC</th>\n",
       "      <th>New_Engine_Others</th>\n",
       "      <th>Power_New_73.9 bhp</th>\n",
       "      <th>Power_New_74 bhp</th>\n",
       "      <th>Power_New_98.6 bhp</th>\n",
       "      <th>Power_New_Others</th>\n",
       "      <th>Power_New_Unknown</th>\n",
       "    </tr>\n",
       "  </thead>\n",
       "  <tbody>\n",
       "    <tr>\n",
       "      <th>0</th>\n",
       "      <td>72000</td>\n",
       "      <td>5.0</td>\n",
       "      <td>0</td>\n",
       "      <td>0</td>\n",
       "      <td>0</td>\n",
       "      <td>0</td>\n",
       "      <td>1</td>\n",
       "      <td>0</td>\n",
       "      <td>0</td>\n",
       "      <td>0</td>\n",
       "      <td>...</td>\n",
       "      <td>0</td>\n",
       "      <td>0</td>\n",
       "      <td>0</td>\n",
       "      <td>1</td>\n",
       "      <td>0</td>\n",
       "      <td>0</td>\n",
       "      <td>0</td>\n",
       "      <td>0</td>\n",
       "      <td>1</td>\n",
       "      <td>0</td>\n",
       "    </tr>\n",
       "    <tr>\n",
       "      <th>1</th>\n",
       "      <td>41000</td>\n",
       "      <td>5.0</td>\n",
       "      <td>1</td>\n",
       "      <td>1</td>\n",
       "      <td>0</td>\n",
       "      <td>0</td>\n",
       "      <td>1</td>\n",
       "      <td>0</td>\n",
       "      <td>0</td>\n",
       "      <td>0</td>\n",
       "      <td>...</td>\n",
       "      <td>0</td>\n",
       "      <td>0</td>\n",
       "      <td>0</td>\n",
       "      <td>0</td>\n",
       "      <td>1</td>\n",
       "      <td>0</td>\n",
       "      <td>0</td>\n",
       "      <td>0</td>\n",
       "      <td>1</td>\n",
       "      <td>0</td>\n",
       "    </tr>\n",
       "    <tr>\n",
       "      <th>2</th>\n",
       "      <td>46000</td>\n",
       "      <td>5.0</td>\n",
       "      <td>2</td>\n",
       "      <td>0</td>\n",
       "      <td>0</td>\n",
       "      <td>1</td>\n",
       "      <td>1</td>\n",
       "      <td>0</td>\n",
       "      <td>0</td>\n",
       "      <td>0</td>\n",
       "      <td>...</td>\n",
       "      <td>0</td>\n",
       "      <td>0</td>\n",
       "      <td>0</td>\n",
       "      <td>0</td>\n",
       "      <td>1</td>\n",
       "      <td>0</td>\n",
       "      <td>0</td>\n",
       "      <td>0</td>\n",
       "      <td>1</td>\n",
       "      <td>0</td>\n",
       "    </tr>\n",
       "    <tr>\n",
       "      <th>3</th>\n",
       "      <td>87000</td>\n",
       "      <td>5.0</td>\n",
       "      <td>3</td>\n",
       "      <td>1</td>\n",
       "      <td>0</td>\n",
       "      <td>0</td>\n",
       "      <td>1</td>\n",
       "      <td>0</td>\n",
       "      <td>0</td>\n",
       "      <td>0</td>\n",
       "      <td>...</td>\n",
       "      <td>0</td>\n",
       "      <td>1</td>\n",
       "      <td>0</td>\n",
       "      <td>0</td>\n",
       "      <td>0</td>\n",
       "      <td>0</td>\n",
       "      <td>0</td>\n",
       "      <td>0</td>\n",
       "      <td>1</td>\n",
       "      <td>0</td>\n",
       "    </tr>\n",
       "    <tr>\n",
       "      <th>4</th>\n",
       "      <td>40670</td>\n",
       "      <td>5.0</td>\n",
       "      <td>4</td>\n",
       "      <td>1</td>\n",
       "      <td>0</td>\n",
       "      <td>0</td>\n",
       "      <td>0</td>\n",
       "      <td>0</td>\n",
       "      <td>1</td>\n",
       "      <td>0</td>\n",
       "      <td>...</td>\n",
       "      <td>0</td>\n",
       "      <td>0</td>\n",
       "      <td>0</td>\n",
       "      <td>0</td>\n",
       "      <td>1</td>\n",
       "      <td>0</td>\n",
       "      <td>0</td>\n",
       "      <td>0</td>\n",
       "      <td>1</td>\n",
       "      <td>0</td>\n",
       "    </tr>\n",
       "  </tbody>\n",
       "</table>\n",
       "<p>5 rows × 25 columns</p>\n",
       "</div>"
      ],
      "text/plain": [
       "   Kilometers_Driven  Seats  S.No.  Fuel_Type_Diesel  Fuel_Type_LPG  \\\n",
       "0              72000    5.0      0                 0              0   \n",
       "1              41000    5.0      1                 1              0   \n",
       "2              46000    5.0      2                 0              0   \n",
       "3              87000    5.0      3                 1              0   \n",
       "4              40670    5.0      4                 1              0   \n",
       "\n",
       "   Fuel_Type_Petrol  Transmission_Manual  Owner_Type_Fourth & Above  \\\n",
       "0                 0                    1                          0   \n",
       "1                 0                    1                          0   \n",
       "2                 1                    1                          0   \n",
       "3                 0                    1                          0   \n",
       "4                 0                    0                          0   \n",
       "\n",
       "   Owner_Type_Second  Owner_Type_Third  ...  New_Engine_1198 CC  \\\n",
       "0                  0                 0  ...                   0   \n",
       "1                  0                 0  ...                   0   \n",
       "2                  0                 0  ...                   0   \n",
       "3                  0                 0  ...                   0   \n",
       "4                  1                 0  ...                   0   \n",
       "\n",
       "   New_Engine_1248 CC  New_Engine_1498 CC  New_Engine_998 CC  \\\n",
       "0                   0                   0                  1   \n",
       "1                   0                   0                  0   \n",
       "2                   0                   0                  0   \n",
       "3                   1                   0                  0   \n",
       "4                   0                   0                  0   \n",
       "\n",
       "   New_Engine_Others  Power_New_73.9 bhp  Power_New_74 bhp  \\\n",
       "0                  0                   0                 0   \n",
       "1                  1                   0                 0   \n",
       "2                  1                   0                 0   \n",
       "3                  0                   0                 0   \n",
       "4                  1                   0                 0   \n",
       "\n",
       "   Power_New_98.6 bhp  Power_New_Others  Power_New_Unknown  \n",
       "0                   0                 1                  0  \n",
       "1                   0                 1                  0  \n",
       "2                   0                 1                  0  \n",
       "3                   0                 1                  0  \n",
       "4                   0                 1                  0  \n",
       "\n",
       "[5 rows x 25 columns]"
      ]
     },
     "execution_count": 59,
     "metadata": {},
     "output_type": "execute_result"
    }
   ],
   "source": [
    "# convert all categorical features to numerical data: OneHotEncoding\n",
    "\n",
    "x =  pd.get_dummies(x, drop_first= True)\n",
    "\n",
    "x.head()"
   ]
  },
  {
   "cell_type": "code",
   "execution_count": 60,
   "id": "7067f9ce",
   "metadata": {},
   "outputs": [],
   "source": [
    "# Build Model"
   ]
  },
  {
   "cell_type": "code",
   "execution_count": 61,
   "id": "f0a21d0b",
   "metadata": {},
   "outputs": [],
   "source": [
    "#Cross Validation \n",
    "linr_regn_cv = LinearRegression()\n",
    "\n",
    "kfold = KFold(shuffle= True)\n",
    "\n",
    "scores = cross_val_score(linr_regn_cv, x, y , cv= kfold, scoring = \"r2\")"
   ]
  },
  {
   "cell_type": "code",
   "execution_count": 62,
   "id": "b0ae4cb1",
   "metadata": {},
   "outputs": [
    {
     "data": {
      "text/plain": [
       "array([0.46022393, 0.47488419, 0.43938524, 0.4674077 , 0.47831474])"
      ]
     },
     "execution_count": 62,
     "metadata": {},
     "output_type": "execute_result"
    }
   ],
   "source": [
    "scores"
   ]
  },
  {
   "cell_type": "code",
   "execution_count": 63,
   "id": "017c5281",
   "metadata": {},
   "outputs": [
    {
     "data": {
      "text/plain": [
       "0.46404316109223565"
      ]
     },
     "execution_count": 63,
     "metadata": {},
     "output_type": "execute_result"
    }
   ],
   "source": [
    "# average\n",
    "np.mean(scores)"
   ]
  },
  {
   "cell_type": "markdown",
   "id": "158b5e71",
   "metadata": {},
   "source": [
    "The model did not perform well but we need to compare with other performance metrics to confirm if indeed model is not performing well "
   ]
  },
  {
   "cell_type": "markdown",
   "id": "f30e7a0d",
   "metadata": {},
   "source": [
    "### Split the data into training and testing"
   ]
  },
  {
   "cell_type": "code",
   "execution_count": 64,
   "id": "a193b156",
   "metadata": {},
   "outputs": [],
   "source": [
    "x_train_val, x_test, y_train_val, y_test = train_test_split(x,y, test_size = 0.2, random_state = 0)\n",
    "x_train, x_val, y_train, y_val = train_test_split(x_train_val,y_train_val, test_size = 0.2, random_state = 0)"
   ]
  },
  {
   "cell_type": "code",
   "execution_count": 65,
   "id": "f68134e5",
   "metadata": {},
   "outputs": [
    {
     "data": {
      "text/plain": [
       "(4640, 25)"
      ]
     },
     "execution_count": 65,
     "metadata": {},
     "output_type": "execute_result"
    }
   ],
   "source": [
    "# Checking size\n",
    "\n",
    "x_train.shape"
   ]
  },
  {
   "cell_type": "code",
   "execution_count": 66,
   "id": "daa96d10",
   "metadata": {},
   "outputs": [
    {
     "data": {
      "text/plain": [
       "(1451, 25)"
      ]
     },
     "execution_count": 66,
     "metadata": {},
     "output_type": "execute_result"
    }
   ],
   "source": [
    "x_test.shape"
   ]
  },
  {
   "cell_type": "code",
   "execution_count": 67,
   "id": "21f5fcf8",
   "metadata": {},
   "outputs": [
    {
     "data": {
      "text/plain": [
       "(1160, 25)"
      ]
     },
     "execution_count": 67,
     "metadata": {},
     "output_type": "execute_result"
    }
   ],
   "source": [
    "x_val.shape"
   ]
  },
  {
   "cell_type": "code",
   "execution_count": 68,
   "id": "05911e8c",
   "metadata": {},
   "outputs": [],
   "source": [
    "# Normalize the data\n",
    "scaler = StandardScaler()# mean of zero and standard deviation of 1\n",
    "\n",
    "x_train_sd = scaler.fit_transform(x_train)  \n",
    "x_val_sd = scaler.transform(x_val)\n",
    "x_test_sd = scaler.transform(x_test)"
   ]
  },
  {
   "cell_type": "code",
   "execution_count": 69,
   "id": "c2d9f3a2",
   "metadata": {},
   "outputs": [],
   "source": [
    "# function to compute adjusted R-squared\n",
    "def adj_r2_score(predictors, targets, predictions):\n",
    "    r2 = r2_score(targets, predictions) # compute R-squared\n",
    "    n = predictors.shape[0] # get the number of observations\n",
    "    k = predictors.shape[1] # get the number of predictors\n",
    "    return 1 - ((1 - r2) * (n - 1) / (n - k - 1))\n",
    "\n",
    "\n",
    "# function to compute MAPE\n",
    "def mape_score(targets, predictions):\n",
    "    return np.mean(np.abs(targets - predictions) / targets) * 100\n",
    "\n",
    "\n",
    "# function to compute different metrics to check performance of a regression model\n",
    "def model_performance_regression(model, predictors, target):\n",
    "    \"\"\"\n",
    "    A function to compute different metrics to check regression model performance\n",
    "\n",
    "    model: regressor\n",
    "    predictors: independent variables\n",
    "    target: dependent variable\n",
    "    \"\"\"\n",
    "\n",
    "    # predicting using the independent variables\n",
    "    pred = model.predict(predictors)\n",
    "\n",
    "    # calculate performance metrics\n",
    "    r2 = r2_score(target, pred)  # to compute R-squared\n",
    "    adjr2 = adj_r2_score(predictors, target, pred)  # to compute adjusted R-squared\n",
    "    rmse = np.sqrt(mean_squared_error(target, pred))  # to compute RMSE\n",
    "    mae = mean_absolute_error(target, pred)  # to compute MAE\n",
    "    mape = mape_score(target, pred)  # to compute MAPE\n",
    "\n",
    "    # creating a dataframe of performance metrics\n",
    "    car_4_u_perf= pd.DataFrame({\"RMSE\": rmse, \"MAE\": mae, \"R-squared\": r2, \"Adj. R-squared\": adjr2, \"MAPE\": mape}, index=[0])\n",
    "\n",
    "    return car_4_u_perf"
   ]
  },
  {
   "cell_type": "code",
   "execution_count": 70,
   "id": "af73b37a",
   "metadata": {},
   "outputs": [
    {
     "data": {
      "text/html": [
       "<style>#sk-container-id-1 {color: black;background-color: white;}#sk-container-id-1 pre{padding: 0;}#sk-container-id-1 div.sk-toggleable {background-color: white;}#sk-container-id-1 label.sk-toggleable__label {cursor: pointer;display: block;width: 100%;margin-bottom: 0;padding: 0.3em;box-sizing: border-box;text-align: center;}#sk-container-id-1 label.sk-toggleable__label-arrow:before {content: \"▸\";float: left;margin-right: 0.25em;color: #696969;}#sk-container-id-1 label.sk-toggleable__label-arrow:hover:before {color: black;}#sk-container-id-1 div.sk-estimator:hover label.sk-toggleable__label-arrow:before {color: black;}#sk-container-id-1 div.sk-toggleable__content {max-height: 0;max-width: 0;overflow: hidden;text-align: left;background-color: #f0f8ff;}#sk-container-id-1 div.sk-toggleable__content pre {margin: 0.2em;color: black;border-radius: 0.25em;background-color: #f0f8ff;}#sk-container-id-1 input.sk-toggleable__control:checked~div.sk-toggleable__content {max-height: 200px;max-width: 100%;overflow: auto;}#sk-container-id-1 input.sk-toggleable__control:checked~label.sk-toggleable__label-arrow:before {content: \"▾\";}#sk-container-id-1 div.sk-estimator input.sk-toggleable__control:checked~label.sk-toggleable__label {background-color: #d4ebff;}#sk-container-id-1 div.sk-label input.sk-toggleable__control:checked~label.sk-toggleable__label {background-color: #d4ebff;}#sk-container-id-1 input.sk-hidden--visually {border: 0;clip: rect(1px 1px 1px 1px);clip: rect(1px, 1px, 1px, 1px);height: 1px;margin: -1px;overflow: hidden;padding: 0;position: absolute;width: 1px;}#sk-container-id-1 div.sk-estimator {font-family: monospace;background-color: #f0f8ff;border: 1px dotted black;border-radius: 0.25em;box-sizing: border-box;margin-bottom: 0.5em;}#sk-container-id-1 div.sk-estimator:hover {background-color: #d4ebff;}#sk-container-id-1 div.sk-parallel-item::after {content: \"\";width: 100%;border-bottom: 1px solid gray;flex-grow: 1;}#sk-container-id-1 div.sk-label:hover label.sk-toggleable__label {background-color: #d4ebff;}#sk-container-id-1 div.sk-serial::before {content: \"\";position: absolute;border-left: 1px solid gray;box-sizing: border-box;top: 0;bottom: 0;left: 50%;z-index: 0;}#sk-container-id-1 div.sk-serial {display: flex;flex-direction: column;align-items: center;background-color: white;padding-right: 0.2em;padding-left: 0.2em;position: relative;}#sk-container-id-1 div.sk-item {position: relative;z-index: 1;}#sk-container-id-1 div.sk-parallel {display: flex;align-items: stretch;justify-content: center;background-color: white;position: relative;}#sk-container-id-1 div.sk-item::before, #sk-container-id-1 div.sk-parallel-item::before {content: \"\";position: absolute;border-left: 1px solid gray;box-sizing: border-box;top: 0;bottom: 0;left: 50%;z-index: -1;}#sk-container-id-1 div.sk-parallel-item {display: flex;flex-direction: column;z-index: 1;position: relative;background-color: white;}#sk-container-id-1 div.sk-parallel-item:first-child::after {align-self: flex-end;width: 50%;}#sk-container-id-1 div.sk-parallel-item:last-child::after {align-self: flex-start;width: 50%;}#sk-container-id-1 div.sk-parallel-item:only-child::after {width: 0;}#sk-container-id-1 div.sk-dashed-wrapped {border: 1px dashed gray;margin: 0 0.4em 0.5em 0.4em;box-sizing: border-box;padding-bottom: 0.4em;background-color: white;}#sk-container-id-1 div.sk-label label {font-family: monospace;font-weight: bold;display: inline-block;line-height: 1.2em;}#sk-container-id-1 div.sk-label-container {text-align: center;}#sk-container-id-1 div.sk-container {/* jupyter's `normalize.less` sets `[hidden] { display: none; }` but bootstrap.min.css set `[hidden] { display: none !important; }` so we also need the `!important` here to be able to override the default hidden behavior on the sphinx rendered scikit-learn.org. See: https://github.com/scikit-learn/scikit-learn/issues/21755 */display: inline-block !important;position: relative;}#sk-container-id-1 div.sk-text-repr-fallback {display: none;}</style><div id=\"sk-container-id-1\" class=\"sk-top-container\"><div class=\"sk-text-repr-fallback\"><pre>LinearRegression()</pre><b>In a Jupyter environment, please rerun this cell to show the HTML representation or trust the notebook. <br />On GitHub, the HTML representation is unable to render, please try loading this page with nbviewer.org.</b></div><div class=\"sk-container\" hidden><div class=\"sk-item\"><div class=\"sk-estimator sk-toggleable\"><input class=\"sk-toggleable__control sk-hidden--visually\" id=\"sk-estimator-id-1\" type=\"checkbox\" checked><label for=\"sk-estimator-id-1\" class=\"sk-toggleable__label sk-toggleable__label-arrow\">LinearRegression</label><div class=\"sk-toggleable__content\"><pre>LinearRegression()</pre></div></div></div></div></div>"
      ],
      "text/plain": [
       "LinearRegression()"
      ]
     },
     "execution_count": 70,
     "metadata": {},
     "output_type": "execute_result"
    }
   ],
   "source": [
    "# instantiate the model\n",
    "linr_regn = LinearRegression()\n",
    "\n",
    "# fit the model\n",
    "linr_regn.fit(x_train_sd, y_train)"
   ]
  },
  {
   "cell_type": "code",
   "execution_count": 71,
   "id": "b18b6ebe",
   "metadata": {},
   "outputs": [
    {
     "data": {
      "text/html": [
       "<style>#sk-container-id-2 {color: black;background-color: white;}#sk-container-id-2 pre{padding: 0;}#sk-container-id-2 div.sk-toggleable {background-color: white;}#sk-container-id-2 label.sk-toggleable__label {cursor: pointer;display: block;width: 100%;margin-bottom: 0;padding: 0.3em;box-sizing: border-box;text-align: center;}#sk-container-id-2 label.sk-toggleable__label-arrow:before {content: \"▸\";float: left;margin-right: 0.25em;color: #696969;}#sk-container-id-2 label.sk-toggleable__label-arrow:hover:before {color: black;}#sk-container-id-2 div.sk-estimator:hover label.sk-toggleable__label-arrow:before {color: black;}#sk-container-id-2 div.sk-toggleable__content {max-height: 0;max-width: 0;overflow: hidden;text-align: left;background-color: #f0f8ff;}#sk-container-id-2 div.sk-toggleable__content pre {margin: 0.2em;color: black;border-radius: 0.25em;background-color: #f0f8ff;}#sk-container-id-2 input.sk-toggleable__control:checked~div.sk-toggleable__content {max-height: 200px;max-width: 100%;overflow: auto;}#sk-container-id-2 input.sk-toggleable__control:checked~label.sk-toggleable__label-arrow:before {content: \"▾\";}#sk-container-id-2 div.sk-estimator input.sk-toggleable__control:checked~label.sk-toggleable__label {background-color: #d4ebff;}#sk-container-id-2 div.sk-label input.sk-toggleable__control:checked~label.sk-toggleable__label {background-color: #d4ebff;}#sk-container-id-2 input.sk-hidden--visually {border: 0;clip: rect(1px 1px 1px 1px);clip: rect(1px, 1px, 1px, 1px);height: 1px;margin: -1px;overflow: hidden;padding: 0;position: absolute;width: 1px;}#sk-container-id-2 div.sk-estimator {font-family: monospace;background-color: #f0f8ff;border: 1px dotted black;border-radius: 0.25em;box-sizing: border-box;margin-bottom: 0.5em;}#sk-container-id-2 div.sk-estimator:hover {background-color: #d4ebff;}#sk-container-id-2 div.sk-parallel-item::after {content: \"\";width: 100%;border-bottom: 1px solid gray;flex-grow: 1;}#sk-container-id-2 div.sk-label:hover label.sk-toggleable__label {background-color: #d4ebff;}#sk-container-id-2 div.sk-serial::before {content: \"\";position: absolute;border-left: 1px solid gray;box-sizing: border-box;top: 0;bottom: 0;left: 50%;z-index: 0;}#sk-container-id-2 div.sk-serial {display: flex;flex-direction: column;align-items: center;background-color: white;padding-right: 0.2em;padding-left: 0.2em;position: relative;}#sk-container-id-2 div.sk-item {position: relative;z-index: 1;}#sk-container-id-2 div.sk-parallel {display: flex;align-items: stretch;justify-content: center;background-color: white;position: relative;}#sk-container-id-2 div.sk-item::before, #sk-container-id-2 div.sk-parallel-item::before {content: \"\";position: absolute;border-left: 1px solid gray;box-sizing: border-box;top: 0;bottom: 0;left: 50%;z-index: -1;}#sk-container-id-2 div.sk-parallel-item {display: flex;flex-direction: column;z-index: 1;position: relative;background-color: white;}#sk-container-id-2 div.sk-parallel-item:first-child::after {align-self: flex-end;width: 50%;}#sk-container-id-2 div.sk-parallel-item:last-child::after {align-self: flex-start;width: 50%;}#sk-container-id-2 div.sk-parallel-item:only-child::after {width: 0;}#sk-container-id-2 div.sk-dashed-wrapped {border: 1px dashed gray;margin: 0 0.4em 0.5em 0.4em;box-sizing: border-box;padding-bottom: 0.4em;background-color: white;}#sk-container-id-2 div.sk-label label {font-family: monospace;font-weight: bold;display: inline-block;line-height: 1.2em;}#sk-container-id-2 div.sk-label-container {text-align: center;}#sk-container-id-2 div.sk-container {/* jupyter's `normalize.less` sets `[hidden] { display: none; }` but bootstrap.min.css set `[hidden] { display: none !important; }` so we also need the `!important` here to be able to override the default hidden behavior on the sphinx rendered scikit-learn.org. See: https://github.com/scikit-learn/scikit-learn/issues/21755 */display: inline-block !important;position: relative;}#sk-container-id-2 div.sk-text-repr-fallback {display: none;}</style><div id=\"sk-container-id-2\" class=\"sk-top-container\"><div class=\"sk-text-repr-fallback\"><pre>Ridge(random_state=0)</pre><b>In a Jupyter environment, please rerun this cell to show the HTML representation or trust the notebook. <br />On GitHub, the HTML representation is unable to render, please try loading this page with nbviewer.org.</b></div><div class=\"sk-container\" hidden><div class=\"sk-item\"><div class=\"sk-estimator sk-toggleable\"><input class=\"sk-toggleable__control sk-hidden--visually\" id=\"sk-estimator-id-2\" type=\"checkbox\" checked><label for=\"sk-estimator-id-2\" class=\"sk-toggleable__label sk-toggleable__label-arrow\">Ridge</label><div class=\"sk-toggleable__content\"><pre>Ridge(random_state=0)</pre></div></div></div></div></div>"
      ],
      "text/plain": [
       "Ridge(random_state=0)"
      ]
     },
     "execution_count": 71,
     "metadata": {},
     "output_type": "execute_result"
    }
   ],
   "source": [
    "# instantiate the model\n",
    "ridge_regn = Ridge(random_state=0)\n",
    "\n",
    "# fit the model\n",
    "ridge_regn.fit(x_train_sd, y_train)"
   ]
  },
  {
   "cell_type": "code",
   "execution_count": 72,
   "id": "d963188e",
   "metadata": {},
   "outputs": [
    {
     "name": "stdout",
     "output_type": "stream",
     "text": [
      "       RMSE       MAE  R-squared  Adj. R-squared           MAPE\n",
      "0  0.919008  0.740394   0.466823        0.463934  200447.966508\n",
      "0.2\n",
      "       RMSE       MAE  R-squared  Adj. R-squared           MAPE\n",
      "0  0.919008  0.740386   0.466823        0.463934  200448.268443\n",
      "1.288888888888889\n",
      "       RMSE       MAE  R-squared  Adj. R-squared           MAPE\n",
      "0  0.919008  0.740378   0.466822        0.463933  200448.571804\n",
      "2.377777777777778\n",
      "       RMSE      MAE  R-squared  Adj. R-squared           MAPE\n",
      "0  0.919009  0.74037   0.466822        0.463933  200448.876832\n",
      "3.4666666666666672\n",
      "       RMSE       MAE  R-squared  Adj. R-squared           MAPE\n",
      "0  0.919009  0.740362   0.466822        0.463933  200449.183751\n",
      "4.555555555555556\n",
      "      RMSE       MAE  R-squared  Adj. R-squared           MAPE\n",
      "0  0.91901  0.740355   0.466821        0.463932  200449.492804\n",
      "5.644444444444445\n",
      "      RMSE       MAE  R-squared  Adj. R-squared           MAPE\n",
      "0  0.91901  0.740348    0.46682        0.463931  200449.804256\n",
      "6.733333333333334\n",
      "       RMSE       MAE  R-squared  Adj. R-squared           MAPE\n",
      "0  0.919011  0.740342   0.466819         0.46393  200450.118174\n",
      "7.822222222222224\n",
      "       RMSE       MAE  R-squared  Adj. R-squared           MAPE\n",
      "0  0.919012  0.740335   0.466818        0.463929  200450.434726\n",
      "8.911111111111111\n",
      "       RMSE       MAE  R-squared  Adj. R-squared          MAPE\n",
      "0  0.919013  0.740329   0.466817        0.463928  200450.75407\n",
      "10.0\n"
     ]
    }
   ],
   "source": [
    "alpha_values = np.linspace(0.2,10, num = 10)\n",
    "for alpha in alpha_values:\n",
    "    ridge = Ridge(random_state=0, alpha = alpha)\n",
    "    ridge.fit(x_train_sd, y_train)\n",
    "    ridge_train = model_performance_regression(ridge, x_train_sd,y_train)\n",
    "    print(ridge_train)\n",
    "    print(alpha)"
   ]
  },
  {
   "cell_type": "code",
   "execution_count": 73,
   "id": "34da31a1",
   "metadata": {},
   "outputs": [
    {
     "data": {
      "text/html": [
       "<style>#sk-container-id-3 {color: black;background-color: white;}#sk-container-id-3 pre{padding: 0;}#sk-container-id-3 div.sk-toggleable {background-color: white;}#sk-container-id-3 label.sk-toggleable__label {cursor: pointer;display: block;width: 100%;margin-bottom: 0;padding: 0.3em;box-sizing: border-box;text-align: center;}#sk-container-id-3 label.sk-toggleable__label-arrow:before {content: \"▸\";float: left;margin-right: 0.25em;color: #696969;}#sk-container-id-3 label.sk-toggleable__label-arrow:hover:before {color: black;}#sk-container-id-3 div.sk-estimator:hover label.sk-toggleable__label-arrow:before {color: black;}#sk-container-id-3 div.sk-toggleable__content {max-height: 0;max-width: 0;overflow: hidden;text-align: left;background-color: #f0f8ff;}#sk-container-id-3 div.sk-toggleable__content pre {margin: 0.2em;color: black;border-radius: 0.25em;background-color: #f0f8ff;}#sk-container-id-3 input.sk-toggleable__control:checked~div.sk-toggleable__content {max-height: 200px;max-width: 100%;overflow: auto;}#sk-container-id-3 input.sk-toggleable__control:checked~label.sk-toggleable__label-arrow:before {content: \"▾\";}#sk-container-id-3 div.sk-estimator input.sk-toggleable__control:checked~label.sk-toggleable__label {background-color: #d4ebff;}#sk-container-id-3 div.sk-label input.sk-toggleable__control:checked~label.sk-toggleable__label {background-color: #d4ebff;}#sk-container-id-3 input.sk-hidden--visually {border: 0;clip: rect(1px 1px 1px 1px);clip: rect(1px, 1px, 1px, 1px);height: 1px;margin: -1px;overflow: hidden;padding: 0;position: absolute;width: 1px;}#sk-container-id-3 div.sk-estimator {font-family: monospace;background-color: #f0f8ff;border: 1px dotted black;border-radius: 0.25em;box-sizing: border-box;margin-bottom: 0.5em;}#sk-container-id-3 div.sk-estimator:hover {background-color: #d4ebff;}#sk-container-id-3 div.sk-parallel-item::after {content: \"\";width: 100%;border-bottom: 1px solid gray;flex-grow: 1;}#sk-container-id-3 div.sk-label:hover label.sk-toggleable__label {background-color: #d4ebff;}#sk-container-id-3 div.sk-serial::before {content: \"\";position: absolute;border-left: 1px solid gray;box-sizing: border-box;top: 0;bottom: 0;left: 50%;z-index: 0;}#sk-container-id-3 div.sk-serial {display: flex;flex-direction: column;align-items: center;background-color: white;padding-right: 0.2em;padding-left: 0.2em;position: relative;}#sk-container-id-3 div.sk-item {position: relative;z-index: 1;}#sk-container-id-3 div.sk-parallel {display: flex;align-items: stretch;justify-content: center;background-color: white;position: relative;}#sk-container-id-3 div.sk-item::before, #sk-container-id-3 div.sk-parallel-item::before {content: \"\";position: absolute;border-left: 1px solid gray;box-sizing: border-box;top: 0;bottom: 0;left: 50%;z-index: -1;}#sk-container-id-3 div.sk-parallel-item {display: flex;flex-direction: column;z-index: 1;position: relative;background-color: white;}#sk-container-id-3 div.sk-parallel-item:first-child::after {align-self: flex-end;width: 50%;}#sk-container-id-3 div.sk-parallel-item:last-child::after {align-self: flex-start;width: 50%;}#sk-container-id-3 div.sk-parallel-item:only-child::after {width: 0;}#sk-container-id-3 div.sk-dashed-wrapped {border: 1px dashed gray;margin: 0 0.4em 0.5em 0.4em;box-sizing: border-box;padding-bottom: 0.4em;background-color: white;}#sk-container-id-3 div.sk-label label {font-family: monospace;font-weight: bold;display: inline-block;line-height: 1.2em;}#sk-container-id-3 div.sk-label-container {text-align: center;}#sk-container-id-3 div.sk-container {/* jupyter's `normalize.less` sets `[hidden] { display: none; }` but bootstrap.min.css set `[hidden] { display: none !important; }` so we also need the `!important` here to be able to override the default hidden behavior on the sphinx rendered scikit-learn.org. See: https://github.com/scikit-learn/scikit-learn/issues/21755 */display: inline-block !important;position: relative;}#sk-container-id-3 div.sk-text-repr-fallback {display: none;}</style><div id=\"sk-container-id-3\" class=\"sk-top-container\"><div class=\"sk-text-repr-fallback\"><pre>Lasso(random_state=0)</pre><b>In a Jupyter environment, please rerun this cell to show the HTML representation or trust the notebook. <br />On GitHub, the HTML representation is unable to render, please try loading this page with nbviewer.org.</b></div><div class=\"sk-container\" hidden><div class=\"sk-item\"><div class=\"sk-estimator sk-toggleable\"><input class=\"sk-toggleable__control sk-hidden--visually\" id=\"sk-estimator-id-3\" type=\"checkbox\" checked><label for=\"sk-estimator-id-3\" class=\"sk-toggleable__label sk-toggleable__label-arrow\">Lasso</label><div class=\"sk-toggleable__content\"><pre>Lasso(random_state=0)</pre></div></div></div></div></div>"
      ],
      "text/plain": [
       "Lasso(random_state=0)"
      ]
     },
     "execution_count": 73,
     "metadata": {},
     "output_type": "execute_result"
    }
   ],
   "source": [
    "# instantiate the model\n",
    "lasso_regn = Lasso(random_state=0)\n",
    "\n",
    "#fit the model\n",
    "lasso_regn.fit(x_train_sd, y_train)"
   ]
  },
  {
   "cell_type": "code",
   "execution_count": 74,
   "id": "ad55c786",
   "metadata": {},
   "outputs": [
    {
     "name": "stdout",
     "output_type": "stream",
     "text": [
      "      RMSE       MAE  R-squared  Adj. R-squared           MAPE\n",
      "0  0.91906  0.740589   0.466763        0.463874  200420.077858\n",
      "0.001\n",
      "       RMSE       MAE  R-squared  Adj. R-squared           MAPE\n",
      "0  0.923852  0.747671   0.461188        0.458269  203845.631706\n",
      "0.023111111111111114\n",
      "       RMSE       MAE  R-squared  Adj. R-squared           MAPE\n",
      "0  0.931456  0.756183   0.452281        0.449313  214845.202504\n",
      "0.045222222222222226\n",
      "     RMSE      MAE  R-squared  Adj. R-squared           MAPE\n",
      "0  0.9401  0.76439   0.442069        0.439046  232183.393551\n",
      "0.06733333333333334\n",
      "       RMSE       MAE  R-squared  Adj. R-squared           MAPE\n",
      "0  0.949168  0.772591   0.431253        0.428171  244591.694606\n",
      "0.08944444444444445\n",
      "       RMSE       MAE  R-squared  Adj. R-squared           MAPE\n",
      "0  0.958503  0.780739    0.42001        0.416868  255578.060793\n",
      "0.11155555555555556\n",
      "       RMSE       MAE  R-squared  Adj. R-squared           MAPE\n",
      "0  0.969771  0.790235   0.406294        0.403077  266564.511795\n",
      "0.13366666666666668\n",
      "       RMSE       MAE  R-squared  Adj. R-squared           MAPE\n",
      "0  0.982904  0.800701   0.390104          0.3868  277551.022451\n",
      "0.1557777777777778\n",
      "       RMSE       MAE  R-squared  Adj. R-squared           MAPE\n",
      "0  0.995489  0.810328   0.374387        0.370998  285547.724727\n",
      "0.1778888888888889\n",
      "       RMSE       MAE  R-squared  Adj. R-squared           MAPE\n",
      "0  1.006857  0.818526   0.360017         0.35655  290260.461029\n",
      "0.2\n"
     ]
    }
   ],
   "source": [
    "alpha_values = np.linspace(0.001,0.2,  num = 10)\n",
    "\n",
    "for alpha in alpha_values:\n",
    "    lasso = Lasso(random_state=0, alpha = alpha)\n",
    "    lasso.fit(x_train_sd, y_train)\n",
    "    lasso_train = model_performance_regression(lasso, x_train_sd,y_train)\n",
    "    print(lasso_train)\n",
    "    print(alpha)"
   ]
  },
  {
   "cell_type": "markdown",
   "id": "240b4662",
   "metadata": {},
   "source": [
    "### Interprete Model Performance and Coefficients"
   ]
  },
  {
   "cell_type": "code",
   "execution_count": 75,
   "id": "c6dde47f",
   "metadata": {},
   "outputs": [
    {
     "data": {
      "text/html": [
       "<div>\n",
       "<style scoped>\n",
       "    .dataframe tbody tr th:only-of-type {\n",
       "        vertical-align: middle;\n",
       "    }\n",
       "\n",
       "    .dataframe tbody tr th {\n",
       "        vertical-align: top;\n",
       "    }\n",
       "\n",
       "    .dataframe thead th {\n",
       "        text-align: right;\n",
       "    }\n",
       "</style>\n",
       "<table border=\"1\" class=\"dataframe\">\n",
       "  <thead>\n",
       "    <tr style=\"text-align: right;\">\n",
       "      <th></th>\n",
       "      <th>RMSE</th>\n",
       "      <th>MAE</th>\n",
       "      <th>R-squared</th>\n",
       "      <th>Adj. R-squared</th>\n",
       "      <th>MAPE</th>\n",
       "    </tr>\n",
       "  </thead>\n",
       "  <tbody>\n",
       "    <tr>\n",
       "      <th>0</th>\n",
       "      <td>0.919008</td>\n",
       "      <td>0.740396</td>\n",
       "      <td>0.466823</td>\n",
       "      <td>0.463934</td>\n",
       "      <td>200447.911186</td>\n",
       "    </tr>\n",
       "  </tbody>\n",
       "</table>\n",
       "</div>"
      ],
      "text/plain": [
       "       RMSE       MAE  R-squared  Adj. R-squared           MAPE\n",
       "0  0.919008  0.740396   0.466823        0.463934  200447.911186"
      ]
     },
     "execution_count": 75,
     "metadata": {},
     "output_type": "execute_result"
    }
   ],
   "source": [
    "# check performance of linear regression on train data\n",
    "linr_regn_train = model_performance_regression(linr_regn, x_train_sd, y_train)\n",
    "linr_regn_train"
   ]
  },
  {
   "cell_type": "code",
   "execution_count": 76,
   "id": "3b4cdcd1",
   "metadata": {},
   "outputs": [
    {
     "data": {
      "text/html": [
       "<div>\n",
       "<style scoped>\n",
       "    .dataframe tbody tr th:only-of-type {\n",
       "        vertical-align: middle;\n",
       "    }\n",
       "\n",
       "    .dataframe tbody tr th {\n",
       "        vertical-align: top;\n",
       "    }\n",
       "\n",
       "    .dataframe thead th {\n",
       "        text-align: right;\n",
       "    }\n",
       "</style>\n",
       "<table border=\"1\" class=\"dataframe\">\n",
       "  <thead>\n",
       "    <tr style=\"text-align: right;\">\n",
       "      <th></th>\n",
       "      <th>RMSE</th>\n",
       "      <th>MAE</th>\n",
       "      <th>R-squared</th>\n",
       "      <th>Adj. R-squared</th>\n",
       "      <th>MAPE</th>\n",
       "    </tr>\n",
       "  </thead>\n",
       "  <tbody>\n",
       "    <tr>\n",
       "      <th>0</th>\n",
       "      <td>0.899724</td>\n",
       "      <td>0.72776</td>\n",
       "      <td>0.507685</td>\n",
       "      <td>0.496831</td>\n",
       "      <td>10871.142275</td>\n",
       "    </tr>\n",
       "  </tbody>\n",
       "</table>\n",
       "</div>"
      ],
      "text/plain": [
       "       RMSE      MAE  R-squared  Adj. R-squared          MAPE\n",
       "0  0.899724  0.72776   0.507685        0.496831  10871.142275"
      ]
     },
     "execution_count": 76,
     "metadata": {},
     "output_type": "execute_result"
    }
   ],
   "source": [
    "# check performance of linear regression on validation data\n",
    "linr_regn_val = model_performance_regression(linr_regn, x_val_sd, y_val)\n",
    "linr_regn_val"
   ]
  },
  {
   "cell_type": "markdown",
   "id": "d92edc0d",
   "metadata": {},
   "source": [
    "The model's performance appears to be relatively better on the validation data compared to the training data"
   ]
  },
  {
   "cell_type": "code",
   "execution_count": 77,
   "id": "59c0eaf9",
   "metadata": {},
   "outputs": [
    {
     "data": {
      "text/html": [
       "<div>\n",
       "<style scoped>\n",
       "    .dataframe tbody tr th:only-of-type {\n",
       "        vertical-align: middle;\n",
       "    }\n",
       "\n",
       "    .dataframe tbody tr th {\n",
       "        vertical-align: top;\n",
       "    }\n",
       "\n",
       "    .dataframe thead th {\n",
       "        text-align: right;\n",
       "    }\n",
       "</style>\n",
       "<table border=\"1\" class=\"dataframe\">\n",
       "  <thead>\n",
       "    <tr style=\"text-align: right;\">\n",
       "      <th></th>\n",
       "      <th>RMSE</th>\n",
       "      <th>MAE</th>\n",
       "      <th>R-squared</th>\n",
       "      <th>Adj. R-squared</th>\n",
       "      <th>MAPE</th>\n",
       "    </tr>\n",
       "  </thead>\n",
       "  <tbody>\n",
       "    <tr>\n",
       "      <th>0</th>\n",
       "      <td>0.919013</td>\n",
       "      <td>0.740329</td>\n",
       "      <td>0.466817</td>\n",
       "      <td>0.463928</td>\n",
       "      <td>200450.75407</td>\n",
       "    </tr>\n",
       "  </tbody>\n",
       "</table>\n",
       "</div>"
      ],
      "text/plain": [
       "       RMSE       MAE  R-squared  Adj. R-squared          MAPE\n",
       "0  0.919013  0.740329   0.466817        0.463928  200450.75407"
      ]
     },
     "execution_count": 77,
     "metadata": {},
     "output_type": "execute_result"
    }
   ],
   "source": [
    "# check performance of ridge regression on train data\n",
    "ridge_regn_train = model_performance_regression(ridge_regn, x_train_sd, y_train)\n",
    "ridge_train"
   ]
  },
  {
   "cell_type": "code",
   "execution_count": 78,
   "id": "8db238e0",
   "metadata": {},
   "outputs": [
    {
     "data": {
      "text/html": [
       "<div>\n",
       "<style scoped>\n",
       "    .dataframe tbody tr th:only-of-type {\n",
       "        vertical-align: middle;\n",
       "    }\n",
       "\n",
       "    .dataframe tbody tr th {\n",
       "        vertical-align: top;\n",
       "    }\n",
       "\n",
       "    .dataframe thead th {\n",
       "        text-align: right;\n",
       "    }\n",
       "</style>\n",
       "<table border=\"1\" class=\"dataframe\">\n",
       "  <thead>\n",
       "    <tr style=\"text-align: right;\">\n",
       "      <th></th>\n",
       "      <th>RMSE</th>\n",
       "      <th>MAE</th>\n",
       "      <th>R-squared</th>\n",
       "      <th>Adj. R-squared</th>\n",
       "      <th>MAPE</th>\n",
       "    </tr>\n",
       "  </thead>\n",
       "  <tbody>\n",
       "    <tr>\n",
       "      <th>0</th>\n",
       "      <td>0.899729</td>\n",
       "      <td>0.727761</td>\n",
       "      <td>0.507679</td>\n",
       "      <td>0.496825</td>\n",
       "      <td>10820.530622</td>\n",
       "    </tr>\n",
       "  </tbody>\n",
       "</table>\n",
       "</div>"
      ],
      "text/plain": [
       "       RMSE       MAE  R-squared  Adj. R-squared          MAPE\n",
       "0  0.899729  0.727761   0.507679        0.496825  10820.530622"
      ]
     },
     "execution_count": 78,
     "metadata": {},
     "output_type": "execute_result"
    }
   ],
   "source": [
    "# check performance of ridge regression on validation data\n",
    "ridge_regn_val = model_performance_regression(ridge_regn, x_val_sd, y_val)\n",
    "ridge_regn_val"
   ]
  },
  {
   "cell_type": "markdown",
   "id": "f77d8f37",
   "metadata": {},
   "source": [
    "The model's performance appears to be relatively better on the validation data compared to the training data. Ridge did not improve the linear regression"
   ]
  },
  {
   "cell_type": "code",
   "execution_count": 79,
   "id": "7e8b794e",
   "metadata": {},
   "outputs": [
    {
     "data": {
      "text/html": [
       "<div>\n",
       "<style scoped>\n",
       "    .dataframe tbody tr th:only-of-type {\n",
       "        vertical-align: middle;\n",
       "    }\n",
       "\n",
       "    .dataframe tbody tr th {\n",
       "        vertical-align: top;\n",
       "    }\n",
       "\n",
       "    .dataframe thead th {\n",
       "        text-align: right;\n",
       "    }\n",
       "</style>\n",
       "<table border=\"1\" class=\"dataframe\">\n",
       "  <thead>\n",
       "    <tr style=\"text-align: right;\">\n",
       "      <th></th>\n",
       "      <th>RMSE</th>\n",
       "      <th>MAE</th>\n",
       "      <th>R-squared</th>\n",
       "      <th>Adj. R-squared</th>\n",
       "      <th>MAPE</th>\n",
       "    </tr>\n",
       "  </thead>\n",
       "  <tbody>\n",
       "    <tr>\n",
       "      <th>0</th>\n",
       "      <td>0.91906</td>\n",
       "      <td>0.740589</td>\n",
       "      <td>0.466763</td>\n",
       "      <td>0.463874</td>\n",
       "      <td>200420.077858</td>\n",
       "    </tr>\n",
       "  </tbody>\n",
       "</table>\n",
       "</div>"
      ],
      "text/plain": [
       "      RMSE       MAE  R-squared  Adj. R-squared           MAPE\n",
       "0  0.91906  0.740589   0.466763        0.463874  200420.077858"
      ]
     },
     "execution_count": 79,
     "metadata": {},
     "output_type": "execute_result"
    }
   ],
   "source": [
    "# check performance of lasso regression on train data\n",
    "lasso = Lasso(random_state=0, alpha = 0.001)\n",
    "lasso.fit(x_train_sd, y_train)\n",
    "lasso_train = model_performance_regression(lasso, x_train_sd,y_train)\n",
    "lasso_train"
   ]
  },
  {
   "cell_type": "code",
   "execution_count": 80,
   "id": "2e9dd255",
   "metadata": {},
   "outputs": [
    {
     "data": {
      "text/html": [
       "<div>\n",
       "<style scoped>\n",
       "    .dataframe tbody tr th:only-of-type {\n",
       "        vertical-align: middle;\n",
       "    }\n",
       "\n",
       "    .dataframe tbody tr th {\n",
       "        vertical-align: top;\n",
       "    }\n",
       "\n",
       "    .dataframe thead th {\n",
       "        text-align: right;\n",
       "    }\n",
       "</style>\n",
       "<table border=\"1\" class=\"dataframe\">\n",
       "  <thead>\n",
       "    <tr style=\"text-align: right;\">\n",
       "      <th></th>\n",
       "      <th>RMSE</th>\n",
       "      <th>MAE</th>\n",
       "      <th>R-squared</th>\n",
       "      <th>Adj. R-squared</th>\n",
       "      <th>MAPE</th>\n",
       "    </tr>\n",
       "  </thead>\n",
       "  <tbody>\n",
       "    <tr>\n",
       "      <th>0</th>\n",
       "      <td>0.89966</td>\n",
       "      <td>0.727766</td>\n",
       "      <td>0.507754</td>\n",
       "      <td>0.496902</td>\n",
       "      <td>10106.534477</td>\n",
       "    </tr>\n",
       "  </tbody>\n",
       "</table>\n",
       "</div>"
      ],
      "text/plain": [
       "      RMSE       MAE  R-squared  Adj. R-squared          MAPE\n",
       "0  0.89966  0.727766   0.507754        0.496902  10106.534477"
      ]
     },
     "execution_count": 80,
     "metadata": {},
     "output_type": "execute_result"
    }
   ],
   "source": [
    "# check performance of lasso regression on validation data\n",
    "lasso_regn_val = model_performance_regression(lasso, x_val_sd, y_val)\n",
    "lasso_regn_val"
   ]
  },
  {
   "cell_type": "markdown",
   "id": "1c0f2800",
   "metadata": {},
   "source": [
    "The model's performance appears to be relatively better on the validation data compared to the training data. Lasso also did not improve the linear regression"
   ]
  },
  {
   "cell_type": "code",
   "execution_count": 81,
   "id": "04bec5ba",
   "metadata": {},
   "outputs": [
    {
     "name": "stdout",
     "output_type": "stream",
     "text": [
      "[-1.69036279e-01 -1.07552856e-16 -6.38517775e-01  2.58536073e-01\n",
      " -1.18059469e-02 -6.73793065e-02 -3.52865582e-01 -1.09026082e-02\n",
      " -6.02924994e-02 -7.10884924e-02  1.55241250e-02 -1.48714897e-02\n",
      " -1.94695517e-02 -1.48344235e-02 -3.05491032e-03 -3.28289931e-03\n",
      " -8.58019078e-02 -5.83723629e-02 -4.87640005e-02 -3.04020152e-02\n",
      " -7.22571882e-02 -5.28965938e-02 -4.89984245e-02 -8.41337861e-02\n",
      " -1.06953482e-01]\n",
      "Index(['Kilometers_Driven', 'Seats', 'S.No.', 'Fuel_Type_Diesel',\n",
      "       'Fuel_Type_LPG', 'Fuel_Type_Petrol', 'Transmission_Manual',\n",
      "       'Owner_Type_Fourth & Above', 'Owner_Type_Second', 'Owner_Type_Third',\n",
      "       'New_Mileage_18.6 kmpl', 'New_Mileage_18.9 kmpl',\n",
      "       'New_Mileage_20.36 kmpl', 'New_Mileage_21.1 kmpl', 'New_Mileage_Others',\n",
      "       'New_Engine_1198 CC', 'New_Engine_1248 CC', 'New_Engine_1498 CC',\n",
      "       'New_Engine_998 CC', 'New_Engine_Others', 'Power_New_73.9 bhp',\n",
      "       'Power_New_74 bhp', 'Power_New_98.6 bhp', 'Power_New_Others',\n",
      "       'Power_New_Unknown'],\n",
      "      dtype='object')\n"
     ]
    }
   ],
   "source": [
    "print(linr_regn.coef_)\n",
    "\n",
    "print(x_train.columns)"
   ]
  },
  {
   "cell_type": "code",
   "execution_count": 82,
   "id": "8dcc7969",
   "metadata": {},
   "outputs": [
    {
     "name": "stdout",
     "output_type": "stream",
     "text": [
      "Kilometers_Driven has coefficient of 0.844478266091535\n",
      "Seats has coefficient of 0.9999999999999999\n",
      "S.No. has coefficient of 0.5280745694730558\n",
      "Fuel_Type_Diesel has coefficient of 1.2950328647620624\n",
      "Fuel_Type_LPG has coefficient of 0.9882634698078773\n",
      "Fuel_Type_Petrol has coefficient of 0.9348405430128558\n",
      "Transmission_Manual has coefficient of 0.7026716389572636\n",
      "Owner_Type_Fourth & Above has coefficient of 0.9891566097848725\n",
      "Owner_Type_Second has coefficient of 0.9414891083007103\n",
      "Owner_Type_Third has coefficient of 0.931379468434828\n",
      "New_Mileage_18.6 kmpl has coefficient of 1.0156452502451983\n",
      "New_Mileage_18.9 kmpl has coefficient of 0.9852385447921235\n",
      "New_Mileage_20.36 kmpl has coefficient of 0.9807187559273121\n",
      "New_Mileage_21.1 kmpl has coefficient of 0.9852750644765808\n",
      "New_Mileage_Others has coefficient of 0.9969497511702767\n",
      "New_Engine_1198 CC has coefficient of 0.9967224835162343\n",
      "New_Engine_1248 CC has coefficient of 0.9177760175002037\n",
      "New_Engine_1498 CC has coefficient of 0.943298632635607\n",
      "New_Engine_998 CC has coefficient of 0.952405870458192\n",
      "New_Engine_Others has coefficient of 0.9700554781181212\n",
      "Power_New_73.9 bhp has coefficient of 0.9302916049776155\n",
      "Power_New_74 bhp has coefficient of 0.9484780858870379\n",
      "Power_New_98.6 bhp has coefficient of 0.9521826298139487\n",
      "Power_New_Others has coefficient of 0.919308257227155\n",
      "Power_New_Unknown has coefficient of 0.8985674718572528\n"
     ]
    }
   ],
   "source": [
    "# observe the coefficients of the linear regression\n",
    "\n",
    "for i , col in enumerate(x_train.columns):\n",
    "        print(f\"{col} has coefficient of {np.exp(linr_regn.coef_[i])}\")"
   ]
  },
  {
   "cell_type": "code",
   "execution_count": 83,
   "id": "35bf2f48",
   "metadata": {},
   "outputs": [],
   "source": [
    "### Feature Selection\n",
    "\n",
    "##### Foward Selection"
   ]
  },
  {
   "cell_type": "code",
   "execution_count": 84,
   "id": "88708fe7",
   "metadata": {},
   "outputs": [
    {
     "name": "stderr",
     "output_type": "stream",
     "text": [
      "[Parallel(n_jobs=-1)]: Using backend LokyBackend with 8 concurrent workers.\n",
      "[Parallel(n_jobs=-1)]: Done  23 out of  25 | elapsed:    4.0s remaining:    0.3s\n",
      "[Parallel(n_jobs=-1)]: Done  25 out of  25 | elapsed:    4.1s finished\n",
      "\n",
      "[2023-05-08 22:31:50] Features: 1/25 -- score: 0.26118812648352036[Parallel(n_jobs=-1)]: Using backend LokyBackend with 8 concurrent workers.\n",
      "[Parallel(n_jobs=-1)]: Done  22 out of  24 | elapsed:    0.0s remaining:    0.0s\n",
      "[Parallel(n_jobs=-1)]: Done  24 out of  24 | elapsed:    0.0s finished\n",
      "\n",
      "[2023-05-08 22:31:50] Features: 2/25 -- score: 0.3877558008292836[Parallel(n_jobs=-1)]: Using backend LokyBackend with 8 concurrent workers.\n",
      "[Parallel(n_jobs=-1)]: Done  20 out of  23 | elapsed:    0.0s remaining:    0.0s\n",
      "[Parallel(n_jobs=-1)]: Done  23 out of  23 | elapsed:    0.0s finished\n",
      "\n",
      "[2023-05-08 22:31:51] Features: 3/25 -- score: 0.4283615434258781[Parallel(n_jobs=-1)]: Using backend LokyBackend with 8 concurrent workers.\n",
      "[Parallel(n_jobs=-1)]: Done  19 out of  22 | elapsed:    0.0s remaining:    0.0s\n",
      "[Parallel(n_jobs=-1)]: Done  22 out of  22 | elapsed:    0.0s finished\n",
      "\n",
      "[2023-05-08 22:31:51] Features: 4/25 -- score: 0.45057176901421325[Parallel(n_jobs=-1)]: Using backend LokyBackend with 8 concurrent workers.\n",
      "[Parallel(n_jobs=-1)]: Done  17 out of  21 | elapsed:    0.0s remaining:    0.0s\n",
      "[Parallel(n_jobs=-1)]: Done  21 out of  21 | elapsed:    0.0s finished\n",
      "\n",
      "[2023-05-08 22:31:51] Features: 5/25 -- score: 0.45370164892754306[Parallel(n_jobs=-1)]: Using backend LokyBackend with 8 concurrent workers.\n",
      "[Parallel(n_jobs=-1)]: Done  16 out of  20 | elapsed:    0.0s remaining:    0.0s\n",
      "[Parallel(n_jobs=-1)]: Done  20 out of  20 | elapsed:    0.0s finished\n",
      "\n",
      "[2023-05-08 22:31:51] Features: 6/25 -- score: 0.4560027639830394[Parallel(n_jobs=-1)]: Using backend LokyBackend with 8 concurrent workers.\n",
      "[Parallel(n_jobs=-1)]: Done  14 out of  19 | elapsed:    0.0s remaining:    0.0s\n",
      "[Parallel(n_jobs=-1)]: Done  19 out of  19 | elapsed:    0.0s finished\n",
      "\n",
      "[2023-05-08 22:31:51] Features: 7/25 -- score: 0.45825620770360986[Parallel(n_jobs=-1)]: Using backend LokyBackend with 8 concurrent workers.\n",
      "[Parallel(n_jobs=-1)]: Done  13 out of  18 | elapsed:    0.0s remaining:    0.0s\n",
      "[Parallel(n_jobs=-1)]: Done  18 out of  18 | elapsed:    0.0s finished\n",
      "\n",
      "[2023-05-08 22:31:51] Features: 8/25 -- score: 0.46023199063716475[Parallel(n_jobs=-1)]: Using backend LokyBackend with 8 concurrent workers.\n",
      "[Parallel(n_jobs=-1)]: Done  11 out of  17 | elapsed:    0.0s remaining:    0.0s\n",
      "[Parallel(n_jobs=-1)]: Done  17 out of  17 | elapsed:    0.0s finished\n",
      "\n",
      "[2023-05-08 22:31:51] Features: 9/25 -- score: 0.46168678814042713[Parallel(n_jobs=-1)]: Using backend LokyBackend with 8 concurrent workers.\n",
      "[Parallel(n_jobs=-1)]: Done  10 out of  16 | elapsed:    0.0s remaining:    0.0s\n",
      "[Parallel(n_jobs=-1)]: Done  16 out of  16 | elapsed:    0.0s finished\n",
      "\n",
      "[2023-05-08 22:31:51] Features: 10/25 -- score: 0.46247609837141057[Parallel(n_jobs=-1)]: Using backend LokyBackend with 8 concurrent workers.\n",
      "[Parallel(n_jobs=-1)]: Done   8 out of  15 | elapsed:    0.0s remaining:    0.0s\n",
      "[Parallel(n_jobs=-1)]: Done  15 out of  15 | elapsed:    0.0s finished\n",
      "\n",
      "[2023-05-08 22:31:52] Features: 11/25 -- score: 0.4629682089358019[Parallel(n_jobs=-1)]: Using backend LokyBackend with 8 concurrent workers.\n",
      "[Parallel(n_jobs=-1)]: Done   7 out of  14 | elapsed:    0.0s remaining:    0.0s\n",
      "[Parallel(n_jobs=-1)]: Done  14 out of  14 | elapsed:    0.0s finished\n",
      "\n",
      "[2023-05-08 22:31:52] Features: 12/25 -- score: 0.4632271897764452[Parallel(n_jobs=-1)]: Using backend LokyBackend with 8 concurrent workers.\n",
      "[Parallel(n_jobs=-1)]: Done   5 out of  13 | elapsed:    0.0s remaining:    0.0s\n",
      "[Parallel(n_jobs=-1)]: Done  13 out of  13 | elapsed:    0.0s finished\n",
      "\n",
      "[2023-05-08 22:31:52] Features: 13/25 -- score: 0.46327643893921466[Parallel(n_jobs=-1)]: Using backend LokyBackend with 8 concurrent workers.\n",
      "[Parallel(n_jobs=-1)]: Done   4 out of  12 | elapsed:    0.0s remaining:    0.0s\n",
      "[Parallel(n_jobs=-1)]: Done  12 out of  12 | elapsed:    0.0s finished\n",
      "\n",
      "[2023-05-08 22:31:52] Features: 14/25 -- score: 0.4633107500218149[Parallel(n_jobs=-1)]: Using backend LokyBackend with 8 concurrent workers.\n",
      "[Parallel(n_jobs=-1)]: Done   2 out of  11 | elapsed:    0.0s remaining:    0.1s\n",
      "[Parallel(n_jobs=-1)]: Done   8 out of  11 | elapsed:    0.0s remaining:    0.0s\n",
      "[Parallel(n_jobs=-1)]: Done  11 out of  11 | elapsed:    0.0s finished\n",
      "\n",
      "[2023-05-08 22:31:52] Features: 15/25 -- score: 0.463387545673876[Parallel(n_jobs=-1)]: Using backend LokyBackend with 8 concurrent workers.\n",
      "[Parallel(n_jobs=-1)]: Done   7 out of  10 | elapsed:    0.0s remaining:    0.0s\n",
      "[Parallel(n_jobs=-1)]: Done  10 out of  10 | elapsed:    0.0s finished\n",
      "\n",
      "[2023-05-08 22:31:52] Features: 16/25 -- score: 0.463387545673876[Parallel(n_jobs=-1)]: Using backend LokyBackend with 8 concurrent workers.\n",
      "[Parallel(n_jobs=-1)]: Done   4 out of   9 | elapsed:    0.0s remaining:    0.0s\n",
      "[Parallel(n_jobs=-1)]: Done   9 out of   9 | elapsed:    0.0s remaining:    0.0s\n",
      "[Parallel(n_jobs=-1)]: Done   9 out of   9 | elapsed:    0.0s finished\n",
      "\n",
      "[2023-05-08 22:31:52] Features: 17/25 -- score: 0.46337014350075423[Parallel(n_jobs=-1)]: Using backend LokyBackend with 8 concurrent workers.\n",
      "[Parallel(n_jobs=-1)]: Done   3 out of   8 | elapsed:    0.0s remaining:    0.0s\n",
      "[Parallel(n_jobs=-1)]: Done   8 out of   8 | elapsed:    0.0s remaining:    0.0s\n",
      "[Parallel(n_jobs=-1)]: Done   8 out of   8 | elapsed:    0.0s finished\n",
      "\n",
      "[2023-05-08 22:31:52] Features: 18/25 -- score: 0.4632950742476501[Parallel(n_jobs=-1)]: Using backend LokyBackend with 8 concurrent workers.\n",
      "[Parallel(n_jobs=-1)]: Done   4 out of   7 | elapsed:    0.0s remaining:    0.0s\n",
      "[Parallel(n_jobs=-1)]: Done   7 out of   7 | elapsed:    0.0s finished\n",
      "\n",
      "[2023-05-08 22:31:52] Features: 19/25 -- score: 0.46322109926237676[Parallel(n_jobs=-1)]: Using backend LokyBackend with 8 concurrent workers.\n",
      "[Parallel(n_jobs=-1)]: Done   3 out of   6 | elapsed:    0.0s remaining:    0.0s\n",
      "[Parallel(n_jobs=-1)]: Done   6 out of   6 | elapsed:    0.0s finished\n",
      "\n",
      "[2023-05-08 22:31:52] Features: 20/25 -- score: 0.46314915636232534[Parallel(n_jobs=-1)]: Using backend LokyBackend with 8 concurrent workers.\n",
      "[Parallel(n_jobs=-1)]: Done   2 out of   5 | elapsed:    0.0s remaining:    0.0s\n",
      "[Parallel(n_jobs=-1)]: Done   5 out of   5 | elapsed:    0.0s remaining:    0.0s\n",
      "[Parallel(n_jobs=-1)]: Done   5 out of   5 | elapsed:    0.0s finished\n",
      "\n",
      "[2023-05-08 22:31:52] Features: 21/25 -- score: 0.46301460261792976[Parallel(n_jobs=-1)]: Using backend LokyBackend with 8 concurrent workers.\n",
      "[Parallel(n_jobs=-1)]: Done   4 out of   4 | elapsed:    0.0s remaining:    0.0s\n",
      "[Parallel(n_jobs=-1)]: Done   4 out of   4 | elapsed:    0.0s finished\n",
      "\n",
      "[2023-05-08 22:31:53] Features: 22/25 -- score: 0.46291232790289066[Parallel(n_jobs=-1)]: Using backend LokyBackend with 8 concurrent workers.\n",
      "[Parallel(n_jobs=-1)]: Done   3 out of   3 | elapsed:    0.0s finished\n",
      "\n",
      "[2023-05-08 22:31:53] Features: 23/25 -- score: 0.4626279392964898[Parallel(n_jobs=-1)]: Using backend LokyBackend with 8 concurrent workers.\n",
      "[Parallel(n_jobs=-1)]: Done   2 out of   2 | elapsed:    0.0s finished\n",
      "\n",
      "[2023-05-08 22:31:53] Features: 24/25 -- score: 0.46286736785133015[Parallel(n_jobs=-1)]: Using backend LokyBackend with 8 concurrent workers.\n",
      "[Parallel(n_jobs=-1)]: Done   1 out of   1 | elapsed:    0.0s finished\n",
      "\n",
      "[2023-05-08 22:31:53] Features: 25/25 -- score: 0.46250108080613617"
     ]
    }
   ],
   "source": [
    "# instantiate the model\n",
    "reg = LinearRegression()\n",
    "\n",
    "# build the forward feature selection\n",
    "sfs = SFS(reg, k_features = x_train.shape[1], forward = True, verbose = 2, scoring = \"r2\", n_jobs = -1)\n",
    "\n",
    "# fit the model\n",
    "sfs = sfs.fit(x_train_sd, y_train)"
   ]
  },
  {
   "cell_type": "code",
   "execution_count": null,
   "id": "7db456ef",
   "metadata": {},
   "outputs": [],
   "source": []
  },
  {
   "cell_type": "markdown",
   "id": "1fa82b04",
   "metadata": {},
   "source": [
    "### Visualise the model performance with the addition of each feature"
   ]
  },
  {
   "cell_type": "code",
   "execution_count": 85,
   "id": "ae3972f4",
   "metadata": {},
   "outputs": [
    {
     "data": {
      "image/png": "[encoded data removed]",
      "text/plain": [
       "<Figure size 1500x500 with 1 Axes>"
      ]
     },
     "metadata": {},
     "output_type": "display_data"
    }
   ],
   "source": [
    "# Plotting the performance of the features\n",
    "fig1= plot_sfs(sfs.get_metric_dict(), kind = \"std_err\", figsize = (15,5))\n",
    "plt.title(\"Sequential Forward Selection\")\n",
    "\n",
    "plt.show()"
   ]
  },
  {
   "cell_type": "markdown",
   "id": "04af5a6b",
   "metadata": {},
   "source": [
    "### Rebuild the model with selected features"
   ]
  },
  {
   "cell_type": "code",
   "execution_count": 86,
   "id": "c93d3a67",
   "metadata": {},
   "outputs": [
    {
     "name": "stderr",
     "output_type": "stream",
     "text": [
      "[Parallel(n_jobs=-1)]: Using backend LokyBackend with 8 concurrent workers.\n",
      "[Parallel(n_jobs=-1)]: Done  23 out of  25 | elapsed:    0.0s remaining:    0.0s\n",
      "[Parallel(n_jobs=-1)]: Done  25 out of  25 | elapsed:    0.0s finished\n",
      "\n",
      "[2023-05-08 22:31:53] Features: 1/6 -- score: 0.26118812648352036[Parallel(n_jobs=-1)]: Using backend LokyBackend with 8 concurrent workers.\n",
      "[Parallel(n_jobs=-1)]: Done  22 out of  24 | elapsed:    0.0s remaining:    0.0s\n",
      "[Parallel(n_jobs=-1)]: Done  24 out of  24 | elapsed:    0.0s finished\n",
      "\n",
      "[2023-05-08 22:31:54] Features: 2/6 -- score: 0.3877558008292836[Parallel(n_jobs=-1)]: Using backend LokyBackend with 8 concurrent workers.\n",
      "[Parallel(n_jobs=-1)]: Done  20 out of  23 | elapsed:    0.0s remaining:    0.0s\n",
      "[Parallel(n_jobs=-1)]: Done  23 out of  23 | elapsed:    0.0s finished\n",
      "\n",
      "[2023-05-08 22:31:54] Features: 3/6 -- score: 0.4283615434258781[Parallel(n_jobs=-1)]: Using backend LokyBackend with 8 concurrent workers.\n",
      "[Parallel(n_jobs=-1)]: Done  19 out of  22 | elapsed:    0.0s remaining:    0.0s\n",
      "[Parallel(n_jobs=-1)]: Done  22 out of  22 | elapsed:    0.0s finished\n",
      "\n",
      "[2023-05-08 22:31:54] Features: 4/6 -- score: 0.45057176901421325[Parallel(n_jobs=-1)]: Using backend LokyBackend with 8 concurrent workers.\n",
      "[Parallel(n_jobs=-1)]: Done  17 out of  21 | elapsed:    0.0s remaining:    0.0s\n",
      "[Parallel(n_jobs=-1)]: Done  21 out of  21 | elapsed:    0.0s finished\n",
      "\n",
      "[2023-05-08 22:31:54] Features: 5/6 -- score: 0.45370164892754306[Parallel(n_jobs=-1)]: Using backend LokyBackend with 8 concurrent workers.\n",
      "[Parallel(n_jobs=-1)]: Done  16 out of  20 | elapsed:    0.0s remaining:    0.0s\n",
      "[Parallel(n_jobs=-1)]: Done  20 out of  20 | elapsed:    0.1s finished\n",
      "\n",
      "[2023-05-08 22:31:54] Features: 6/6 -- score: 0.4560027639830394"
     ]
    }
   ],
   "source": [
    "# build the forward feature selection\n",
    "# selecting best performing features\n",
    "sfs = SFS(reg, k_features= 6, forward= True, verbose= 2, scoring= \"r2\",n_jobs = -1)\n",
    "\n",
    "sfs = sfs.fit(x_train_sd,y_train)"
   ]
  },
  {
   "cell_type": "markdown",
   "id": "6386fb0f",
   "metadata": {},
   "source": [
    "Kilometers Driven contributes positively to the price of used cars as it gives us 26% contribution as the first feature"
   ]
  },
  {
   "cell_type": "code",
   "execution_count": 87,
   "id": "c9e94783",
   "metadata": {},
   "outputs": [],
   "source": [
    "# important features\n",
    "feat_cols = list(sfs.k_feature_idx_)\n",
    "\n",
    "x_train2 =x_train[x_train.columns[feat_cols]]\n",
    "x_test2 = x_test[x_test.columns[feat_cols]]\n",
    "x_val2 = x_val[x_val.columns[feat_cols]]"
   ]
  },
  {
   "cell_type": "code",
   "execution_count": 88,
   "id": "035ff00b",
   "metadata": {},
   "outputs": [],
   "source": [
    "# renormalizing the original data\n",
    "x_train2_sd = scaler.fit_transform(x_train2)\n",
    "x_val2_sd = scaler.transform(x_val2)\n",
    "x_test2_sd = scaler.transform(x_test2)"
   ]
  },
  {
   "cell_type": "code",
   "execution_count": 89,
   "id": "d8cac48c",
   "metadata": {},
   "outputs": [
    {
     "data": {
      "text/html": [
       "<style>#sk-container-id-4 {color: black;background-color: white;}#sk-container-id-4 pre{padding: 0;}#sk-container-id-4 div.sk-toggleable {background-color: white;}#sk-container-id-4 label.sk-toggleable__label {cursor: pointer;display: block;width: 100%;margin-bottom: 0;padding: 0.3em;box-sizing: border-box;text-align: center;}#sk-container-id-4 label.sk-toggleable__label-arrow:before {content: \"▸\";float: left;margin-right: 0.25em;color: #696969;}#sk-container-id-4 label.sk-toggleable__label-arrow:hover:before {color: black;}#sk-container-id-4 div.sk-estimator:hover label.sk-toggleable__label-arrow:before {color: black;}#sk-container-id-4 div.sk-toggleable__content {max-height: 0;max-width: 0;overflow: hidden;text-align: left;background-color: #f0f8ff;}#sk-container-id-4 div.sk-toggleable__content pre {margin: 0.2em;color: black;border-radius: 0.25em;background-color: #f0f8ff;}#sk-container-id-4 input.sk-toggleable__control:checked~div.sk-toggleable__content {max-height: 200px;max-width: 100%;overflow: auto;}#sk-container-id-4 input.sk-toggleable__control:checked~label.sk-toggleable__label-arrow:before {content: \"▾\";}#sk-container-id-4 div.sk-estimator input.sk-toggleable__control:checked~label.sk-toggleable__label {background-color: #d4ebff;}#sk-container-id-4 div.sk-label input.sk-toggleable__control:checked~label.sk-toggleable__label {background-color: #d4ebff;}#sk-container-id-4 input.sk-hidden--visually {border: 0;clip: rect(1px 1px 1px 1px);clip: rect(1px, 1px, 1px, 1px);height: 1px;margin: -1px;overflow: hidden;padding: 0;position: absolute;width: 1px;}#sk-container-id-4 div.sk-estimator {font-family: monospace;background-color: #f0f8ff;border: 1px dotted black;border-radius: 0.25em;box-sizing: border-box;margin-bottom: 0.5em;}#sk-container-id-4 div.sk-estimator:hover {background-color: #d4ebff;}#sk-container-id-4 div.sk-parallel-item::after {content: \"\";width: 100%;border-bottom: 1px solid gray;flex-grow: 1;}#sk-container-id-4 div.sk-label:hover label.sk-toggleable__label {background-color: #d4ebff;}#sk-container-id-4 div.sk-serial::before {content: \"\";position: absolute;border-left: 1px solid gray;box-sizing: border-box;top: 0;bottom: 0;left: 50%;z-index: 0;}#sk-container-id-4 div.sk-serial {display: flex;flex-direction: column;align-items: center;background-color: white;padding-right: 0.2em;padding-left: 0.2em;position: relative;}#sk-container-id-4 div.sk-item {position: relative;z-index: 1;}#sk-container-id-4 div.sk-parallel {display: flex;align-items: stretch;justify-content: center;background-color: white;position: relative;}#sk-container-id-4 div.sk-item::before, #sk-container-id-4 div.sk-parallel-item::before {content: \"\";position: absolute;border-left: 1px solid gray;box-sizing: border-box;top: 0;bottom: 0;left: 50%;z-index: -1;}#sk-container-id-4 div.sk-parallel-item {display: flex;flex-direction: column;z-index: 1;position: relative;background-color: white;}#sk-container-id-4 div.sk-parallel-item:first-child::after {align-self: flex-end;width: 50%;}#sk-container-id-4 div.sk-parallel-item:last-child::after {align-self: flex-start;width: 50%;}#sk-container-id-4 div.sk-parallel-item:only-child::after {width: 0;}#sk-container-id-4 div.sk-dashed-wrapped {border: 1px dashed gray;margin: 0 0.4em 0.5em 0.4em;box-sizing: border-box;padding-bottom: 0.4em;background-color: white;}#sk-container-id-4 div.sk-label label {font-family: monospace;font-weight: bold;display: inline-block;line-height: 1.2em;}#sk-container-id-4 div.sk-label-container {text-align: center;}#sk-container-id-4 div.sk-container {/* jupyter's `normalize.less` sets `[hidden] { display: none; }` but bootstrap.min.css set `[hidden] { display: none !important; }` so we also need the `!important` here to be able to override the default hidden behavior on the sphinx rendered scikit-learn.org. See: https://github.com/scikit-learn/scikit-learn/issues/21755 */display: inline-block !important;position: relative;}#sk-container-id-4 div.sk-text-repr-fallback {display: none;}</style><div id=\"sk-container-id-4\" class=\"sk-top-container\"><div class=\"sk-text-repr-fallback\"><pre>LinearRegression()</pre><b>In a Jupyter environment, please rerun this cell to show the HTML representation or trust the notebook. <br />On GitHub, the HTML representation is unable to render, please try loading this page with nbviewer.org.</b></div><div class=\"sk-container\" hidden><div class=\"sk-item\"><div class=\"sk-estimator sk-toggleable\"><input class=\"sk-toggleable__control sk-hidden--visually\" id=\"sk-estimator-id-4\" type=\"checkbox\" checked><label for=\"sk-estimator-id-4\" class=\"sk-toggleable__label sk-toggleable__label-arrow\">LinearRegression</label><div class=\"sk-toggleable__content\"><pre>LinearRegression()</pre></div></div></div></div></div>"
      ],
      "text/plain": [
       "LinearRegression()"
      ]
     },
     "execution_count": 89,
     "metadata": {},
     "output_type": "execute_result"
    }
   ],
   "source": [
    "# re-build the linear regression\n",
    "\n",
    "lin_reg2 = LinearRegression()\n",
    "\n",
    "lin_reg2.fit(x_train2_sd, y_train)"
   ]
  },
  {
   "cell_type": "code",
   "execution_count": 90,
   "id": "e02c69d7",
   "metadata": {},
   "outputs": [
    {
     "data": {
      "text/html": [
       "<div>\n",
       "<style scoped>\n",
       "    .dataframe tbody tr th:only-of-type {\n",
       "        vertical-align: middle;\n",
       "    }\n",
       "\n",
       "    .dataframe tbody tr th {\n",
       "        vertical-align: top;\n",
       "    }\n",
       "\n",
       "    .dataframe thead th {\n",
       "        text-align: right;\n",
       "    }\n",
       "</style>\n",
       "<table border=\"1\" class=\"dataframe\">\n",
       "  <thead>\n",
       "    <tr style=\"text-align: right;\">\n",
       "      <th></th>\n",
       "      <th>RMSE</th>\n",
       "      <th>MAE</th>\n",
       "      <th>R-squared</th>\n",
       "      <th>Adj. R-squared</th>\n",
       "      <th>MAPE</th>\n",
       "    </tr>\n",
       "  </thead>\n",
       "  <tbody>\n",
       "    <tr>\n",
       "      <th>0</th>\n",
       "      <td>0.927405</td>\n",
       "      <td>0.749672</td>\n",
       "      <td>0.457035</td>\n",
       "      <td>0.456332</td>\n",
       "      <td>213934.512043</td>\n",
       "    </tr>\n",
       "  </tbody>\n",
       "</table>\n",
       "</div>"
      ],
      "text/plain": [
       "       RMSE       MAE  R-squared  Adj. R-squared           MAPE\n",
       "0  0.927405  0.749672   0.457035        0.456332  213934.512043"
      ]
     },
     "execution_count": 90,
     "metadata": {},
     "output_type": "execute_result"
    }
   ],
   "source": [
    "reg2_train = model_performance_regression(lin_reg2, x_train2_sd, y_train)\n",
    "reg2_train"
   ]
  },
  {
   "cell_type": "code",
   "execution_count": 91,
   "id": "dcf341c2",
   "metadata": {},
   "outputs": [
    {
     "data": {
      "text/html": [
       "<div>\n",
       "<style scoped>\n",
       "    .dataframe tbody tr th:only-of-type {\n",
       "        vertical-align: middle;\n",
       "    }\n",
       "\n",
       "    .dataframe tbody tr th {\n",
       "        vertical-align: top;\n",
       "    }\n",
       "\n",
       "    .dataframe thead th {\n",
       "        text-align: right;\n",
       "    }\n",
       "</style>\n",
       "<table border=\"1\" class=\"dataframe\">\n",
       "  <thead>\n",
       "    <tr style=\"text-align: right;\">\n",
       "      <th></th>\n",
       "      <th>RMSE</th>\n",
       "      <th>MAE</th>\n",
       "      <th>R-squared</th>\n",
       "      <th>Adj. R-squared</th>\n",
       "      <th>MAPE</th>\n",
       "    </tr>\n",
       "  </thead>\n",
       "  <tbody>\n",
       "    <tr>\n",
       "      <th>0</th>\n",
       "      <td>0.904831</td>\n",
       "      <td>0.734031</td>\n",
       "      <td>0.502079</td>\n",
       "      <td>0.499488</td>\n",
       "      <td>38602.575731</td>\n",
       "    </tr>\n",
       "  </tbody>\n",
       "</table>\n",
       "</div>"
      ],
      "text/plain": [
       "       RMSE       MAE  R-squared  Adj. R-squared          MAPE\n",
       "0  0.904831  0.734031   0.502079        0.499488  38602.575731"
      ]
     },
     "execution_count": 91,
     "metadata": {},
     "output_type": "execute_result"
    }
   ],
   "source": [
    "reg2_val = model_performance_regression(lin_reg2, x_val2_sd, y_val)\n",
    "reg2_val"
   ]
  },
  {
   "cell_type": "markdown",
   "id": "4b2d7385",
   "metadata": {},
   "source": [
    "Performance did not improve using the 6 features as compared with the previous R- Squared\n",
    "\n",
    "To be sure the model does not overfit we now pass in the test data"
   ]
  },
  {
   "cell_type": "code",
   "execution_count": 92,
   "id": "6d2000bf",
   "metadata": {},
   "outputs": [
    {
     "data": {
      "text/html": [
       "<div>\n",
       "<style scoped>\n",
       "    .dataframe tbody tr th:only-of-type {\n",
       "        vertical-align: middle;\n",
       "    }\n",
       "\n",
       "    .dataframe tbody tr th {\n",
       "        vertical-align: top;\n",
       "    }\n",
       "\n",
       "    .dataframe thead th {\n",
       "        text-align: right;\n",
       "    }\n",
       "</style>\n",
       "<table border=\"1\" class=\"dataframe\">\n",
       "  <thead>\n",
       "    <tr style=\"text-align: right;\">\n",
       "      <th></th>\n",
       "      <th>RMSE</th>\n",
       "      <th>MAE</th>\n",
       "      <th>R-squared</th>\n",
       "      <th>Adj. R-squared</th>\n",
       "      <th>MAPE</th>\n",
       "    </tr>\n",
       "  </thead>\n",
       "  <tbody>\n",
       "    <tr>\n",
       "      <th>0</th>\n",
       "      <td>0.948645</td>\n",
       "      <td>0.773408</td>\n",
       "      <td>0.424104</td>\n",
       "      <td>0.421711</td>\n",
       "      <td>188175.966269</td>\n",
       "    </tr>\n",
       "  </tbody>\n",
       "</table>\n",
       "</div>"
      ],
      "text/plain": [
       "       RMSE       MAE  R-squared  Adj. R-squared           MAPE\n",
       "0  0.948645  0.773408   0.424104        0.421711  188175.966269"
      ]
     },
     "execution_count": 92,
     "metadata": {},
     "output_type": "execute_result"
    }
   ],
   "source": [
    "reg2_test = model_performance_regression(lin_reg2, x_test2_sd, y_test)\n",
    "reg2_test"
   ]
  },
  {
   "cell_type": "markdown",
   "id": "2a3a3fc8",
   "metadata": {},
   "source": [
    "The model's performance was no better. The test set did not do better based on the R-squared and Adjusted R squared. \n",
    "\n",
    "The model did not underfit. Based on these metrics, the model's performance appears to be relatively better on the validation data compared to the training data and testing data"
   ]
  },
  {
   "cell_type": "markdown",
   "id": "2307c717",
   "metadata": {},
   "source": [
    "The observations based on these metrics are as follows:\n",
    "\n",
    "Training Set: The model shows moderate performance on the training set, with reasonably low values for RMSE and MAE. The R-squared and Adj. R-squared values indicate that the model explains around 45.7% of the variance in the prices. However, the MAPE value is quite high, suggesting a relatively high percentage of errors in predicting the prices. This could indicate potential issues with the model's accuracy and precision.\n",
    "\n",
    "Validation Set: The model performs slightly better on the validation set compared to the training set. The lower RMSE and MAE values indicate improved accuracy in predicting the prices. The higher R-squared and Adj. R-squared values suggest that the model explains around 50.2% of the variance in the prices. The lower MAPE value indicates a reduced percentage of errors, indicating better performance compared to the training set.\n",
    "\n",
    "Testing Set: The model's performance on the testing set is weaker compared to both the training and validation sets. The higher RMSE and MAE values indicate higher prediction errors and less accurate price predictions. The lower R-squared and Adj. R-squared values suggest that the model explains only around 42.4% of the variance in the prices. The higher MAPE value indicates a relatively high percentage of errors in predicting the prices accurately.\n",
    "\n",
    "Based on these observations, it appears that the model might be overfitting the training data, leading to poorer performance on unseen data. "
   ]
  },
  {
   "cell_type": "markdown",
   "id": "185b5019",
   "metadata": {},
   "source": [
    "### Conclusion\n",
    "\n",
    "Moderate Performance: The model shows moderate performance on the training set, with reasonably low values for RMSE and MAE. This indicates that the model is able to capture some patterns and trends in the data.\n",
    "\n",
    "Overfitting: However, the model's performance on the testing set is relatively poor compared to the training and validation sets. This suggests that the model may be overfitting the training data, as it fails to generalize well to unseen data. This could be due to the model capturing noise or specific patterns in the training set that do not hold true for new instances.\n",
    "\n",
    "Prediction Accuracy: The R-squared and Adj. R-squared values indicate the proportion of the variance in the target variable (used car prices) that is explained by the model. These values are relatively low, suggesting that the model does not fully capture the variability in the prices. Additionally, the MAPE value is high, indicating a relatively high percentage of errors in predicting the prices accurately\n",
    "\n",
    "It is important to consider other factors beyond the model's predictions when setting prices, such as market demand, inventory levels, and competitive pricing.\n",
    "\n",
    "The business may need to collect additional data and consider other modeling techniques beyond linear regression to improve the accuracy of the pricing model.\n",
    "\n",
    "Differential pricing strategies can be developed based on the predicted prices of used cars. For example, the business can charge higher prices for cars that are in high demand or have desirable features, while offering discounts on cars that are less popular or have less desirable features.\n",
    "\n",
    "Continuous monitoring and updating of the pricing model will be necessary to ensure that it remains accurate and effective in the constantly evolving used car market."
   ]
  }
 ],
 "metadata": {
  "kernelspec": {
   "display_name": "Python 3 (ipykernel)",
   "language": "python",
   "name": "python3"
  },
  "language_info": {
   "codemirror_mode": {
    "name": "ipython",
    "version": 3
   },
   "file_extension": ".py",
   "mimetype": "text/x-python",
   "name": "python",
   "nbconvert_exporter": "python",
   "pygments_lexer": "ipython3",
   "version": "3.11.1"
  }
 },
 "nbformat": 4,
 "nbformat_minor": 5
}
